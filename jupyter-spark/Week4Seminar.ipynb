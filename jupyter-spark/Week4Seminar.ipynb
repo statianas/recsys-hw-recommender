{
 "cells": [
  {
   "cell_type": "code",
   "execution_count": 1,
   "metadata": {
    "collapsed": true,
    "jupyter": {
     "outputs_hidden": true
    },
    "tags": []
   },
   "outputs": [
    {
     "ename": "ModuleNotFoundError",
     "evalue": "No module named 'pyspark'",
     "output_type": "error",
     "traceback": [
      "\u001b[0;31m---------------------------------------------------------------------------\u001b[0m",
      "\u001b[0;31mModuleNotFoundError\u001b[0m                       Traceback (most recent call last)",
      "Cell \u001b[0;32mIn[1], line 1\u001b[0m\n\u001b[0;32m----> 1\u001b[0m \u001b[38;5;28;01mfrom\u001b[39;00m \u001b[38;5;21;01mpyspark\u001b[39;00m\u001b[38;5;21;01m.\u001b[39;00m\u001b[38;5;21;01msql\u001b[39;00m \u001b[38;5;28;01mimport\u001b[39;00m SparkSession\n\u001b[1;32m      3\u001b[0m \u001b[38;5;28;01mimport\u001b[39;00m \u001b[38;5;21;01mpyspark\u001b[39;00m\u001b[38;5;21;01m.\u001b[39;00m\u001b[38;5;21;01msql\u001b[39;00m\u001b[38;5;21;01m.\u001b[39;00m\u001b[38;5;21;01mfunctions\u001b[39;00m \u001b[38;5;28;01mas\u001b[39;00m \u001b[38;5;21;01mspf\u001b[39;00m\n\u001b[1;32m      5\u001b[0m \u001b[38;5;28;01mfrom\u001b[39;00m \u001b[38;5;21;01mpyspark\u001b[39;00m\u001b[38;5;21;01m.\u001b[39;00m\u001b[38;5;21;01mml\u001b[39;00m\u001b[38;5;21;01m.\u001b[39;00m\u001b[38;5;21;01mrecommendation\u001b[39;00m \u001b[38;5;28;01mimport\u001b[39;00m ALS\n",
      "\u001b[0;31mModuleNotFoundError\u001b[0m: No module named 'pyspark'"
     ]
    }
   ],
   "source": [
    "from pyspark.sql import SparkSession\n",
    "\n",
    "import pyspark.sql.functions as spf\n",
    "\n",
    "from pyspark.ml.recommendation import ALS\n",
    "from pyspark.ml.evaluation import RegressionEvaluator"
   ]
  },
  {
   "cell_type": "code",
   "execution_count": 2,
   "metadata": {},
   "outputs": [
    {
     "data": {
      "text/html": [
       "\n",
       "            <div>\n",
       "                <p><b>SparkSession - in-memory</b></p>\n",
       "                \n",
       "        <div>\n",
       "            <p><b>SparkContext</b></p>\n",
       "\n",
       "            <p><a href=\"http://mipt-client.atp-fivt.org:4045\">Spark UI</a></p>\n",
       "\n",
       "            <dl>\n",
       "              <dt>Version</dt>\n",
       "                <dd><code>v2.4.0.cloudera2</code></dd>\n",
       "              <dt>Master</dt>\n",
       "                <dd><code>yarn</code></dd>\n",
       "              <dt>AppName</dt>\n",
       "                <dd><code>PySparkShell</code></dd>\n",
       "            </dl>\n",
       "        </div>\n",
       "        \n",
       "            </div>\n",
       "        "
      ],
      "text/plain": [
       "<pyspark.sql.session.SparkSession at 0x7f385eddfcc0>"
      ]
     },
     "execution_count": 2,
     "metadata": {},
     "output_type": "execute_result"
    }
   ],
   "source": [
    "spark = SparkSession.builder.appName(\"anokhin\").getOrCreate()\n",
    "spark"
   ]
  },
  {
   "cell_type": "markdown",
   "metadata": {},
   "source": [
    "## Model Based Collaborative filtering\n",
    "\n",
    "### Собираем данные на Spark и сохраняем как pandas dataframe"
   ]
  },
  {
   "cell_type": "code",
   "execution_count": 13,
   "metadata": {},
   "outputs": [
    {
     "name": "stdout",
     "output_type": "stream",
     "text": [
      "+----+-----+------------------+-----+\n",
      "|user|track|              time| test|\n",
      "+----+-----+------------------+-----+\n",
      "|8779| 9293|               1.0|false|\n",
      "|5021|46804|0.6666666666666666|false|\n",
      "|6980|40897|             0.045| true|\n",
      "|8406|24479|              0.61|false|\n",
      "|2374| 3146|               0.0|false|\n",
      "|2319|22543|              0.37|false|\n",
      "|8377|45742|              0.02|false|\n",
      "|1249|16019|              0.01|false|\n",
      "|7604| 6823|              0.13|false|\n",
      "|5287| 2803|               0.4| true|\n",
      "+----+-----+------------------+-----+\n",
      "\n"
     ]
    }
   ],
   "source": [
    "data = (\n",
    "    spark.read.json(\"/user/anokhin/seminar-2/*/data.json\")\n",
    "#         .filter(spf.col(\"time\") > 0.8)\n",
    "        .select(\"user\", \"track\", \"time\")\n",
    "        .groupBy(\"user\", \"track\")\n",
    "        .agg(\n",
    "            spf.avg(\"time\").alias(\"time\")\n",
    "        )\n",
    "        .withColumn(\"test\", spf.rand() > 0.8)\n",
    ")\n",
    "\n",
    "data.limit(10).show()"
   ]
  },
  {
   "cell_type": "code",
   "execution_count": 14,
   "metadata": {
    "tags": []
   },
   "outputs": [],
   "source": [
    "data.toPandas().to_json(\"/home/anokhin/week04.json\", orient=\"records\", lines=True)"
   ]
  },
  {
   "cell_type": "markdown",
   "metadata": {},
   "source": [
    "### Обучаем ALS на Spark и сохраняем рекомендации"
   ]
  },
  {
   "cell_type": "code",
   "execution_count": 15,
   "metadata": {
    "collapsed": true,
    "jupyter": {
     "outputs_hidden": true
    },
    "tags": []
   },
   "outputs": [],
   "source": [
    "als = ALS(\n",
    "    rank=50,\n",
    "    maxIter=25, \n",
    "    regParam=0.1, \n",
    "    userCol=\"user\", \n",
    "    itemCol=\"track\", \n",
    "    ratingCol=\"time\",\n",
    "    coldStartStrategy=\"drop\",\n",
    ").fit(data.filter(spf.col(\"test\") == False))"
   ]
  },
  {
   "cell_type": "code",
   "execution_count": 16,
   "metadata": {},
   "outputs": [
    {
     "name": "stdout",
     "output_type": "stream",
     "text": [
      "+----+-----+------------------+----+----------+\n",
      "|user|track|time              |test|prediction|\n",
      "+----+-----+------------------+----+----------+\n",
      "|6958|471  |0.26              |true|0.31410235|\n",
      "|2021|833  |0.3333333333333333|true|0.18633708|\n",
      "|7045|1342 |0.5               |true|0.34375912|\n",
      "|7833|1645 |0.53              |true|0.30532998|\n",
      "|6676|1829 |0.5               |true|0.32647264|\n",
      "|861 |1959 |0.3333333333333333|true|0.22080585|\n",
      "|1290|1959 |0.2               |true|0.15932888|\n",
      "|1323|2122 |0.0               |true|0.07266973|\n",
      "|5733|2122 |1.0               |true|0.5562232 |\n",
      "|1235|2142 |0.0               |true|0.17401683|\n",
      "+----+-----+------------------+----+----------+\n",
      "only showing top 10 rows\n",
      "\n"
     ]
    }
   ],
   "source": [
    "predictions = als.transform(data.filter(spf.col(\"test\") == True))\n",
    "\n",
    "predictions.show(10, False)"
   ]
  },
  {
   "cell_type": "code",
   "execution_count": 17,
   "metadata": {},
   "outputs": [
    {
     "name": "stdout",
     "output_type": "stream",
     "text": [
      "Root-mean-square error = 0.2518213382053526\n"
     ]
    }
   ],
   "source": [
    "evaluator = RegressionEvaluator(\n",
    "    metricName=\"rmse\", \n",
    "    labelCol=\"time\",\n",
    "    predictionCol=\"prediction\"\n",
    ")\n",
    "\n",
    "rmse = evaluator.evaluate(predictions)\n",
    "print(\"Root-mean-square error = \" + str(rmse))"
   ]
  },
  {
   "cell_type": "code",
   "execution_count": 19,
   "metadata": {
    "tags": []
   },
   "outputs": [],
   "source": [
    "(\n",
    "    als\n",
    "        .recommendForAllUsers(100)\n",
    "        .select(\n",
    "            spf.col(\"user\"),\n",
    "            spf.col(\"recommendations.track\").alias(\"tracks\")\n",
    "        )\n",
    ").toPandas().to_json(\"/home/anokhin/recomendations_als.json\", orient=\"records\", lines=True)"
   ]
  },
  {
   "cell_type": "markdown",
   "metadata": {},
   "source": [
    "### Train LightFM"
   ]
  },
  {
   "cell_type": "code",
   "execution_count": 1,
   "metadata": {
    "tags": []
   },
   "outputs": [
    {
     "name": "stderr",
     "output_type": "stream",
     "text": [
      "/Users/n.anokhin/Projects/virtualenv/recsys-course/lib/python3.8/site-packages/lightfm/_lightfm_fast.py:9: UserWarning: LightFM was compiled without OpenMP support. Only a single thread will be used.\n",
      "  warnings.warn(\n"
     ]
    }
   ],
   "source": [
    "import pandas as pd\n",
    "import numpy as np\n",
    "import scipy.stats as ss\n",
    "import scipy.special as sp\n",
    "\n",
    "import lightfm\n",
    "import lightfm.data as ld\n",
    "import lightfm.evaluation as lv\n",
    "\n",
    "import tqdm\n",
    "import json\n",
    "import optuna\n",
    "\n",
    "import tensorboardX as tb\n",
    "\n",
    "import matplotlib.pyplot as pl\n",
    "import seaborn as sns\n",
    "\n",
    "np.random.seed(31337)"
   ]
  },
  {
   "cell_type": "code",
   "execution_count": 12,
   "metadata": {
    "tags": []
   },
   "outputs": [
    {
     "data": {
      "text/html": [
       "<div>\n",
       "<style scoped>\n",
       "    .dataframe tbody tr th:only-of-type {\n",
       "        vertical-align: middle;\n",
       "    }\n",
       "\n",
       "    .dataframe tbody tr th {\n",
       "        vertical-align: top;\n",
       "    }\n",
       "\n",
       "    .dataframe thead th {\n",
       "        text-align: right;\n",
       "    }\n",
       "</style>\n",
       "<table border=\"1\" class=\"dataframe\">\n",
       "  <thead>\n",
       "    <tr style=\"text-align: right;\">\n",
       "      <th></th>\n",
       "      <th>user</th>\n",
       "      <th>track</th>\n",
       "      <th>time</th>\n",
       "      <th>test</th>\n",
       "    </tr>\n",
       "  </thead>\n",
       "  <tbody>\n",
       "    <tr>\n",
       "      <th>0</th>\n",
       "      <td>6056</td>\n",
       "      <td>30982</td>\n",
       "      <td>1.00</td>\n",
       "      <td>False</td>\n",
       "    </tr>\n",
       "    <tr>\n",
       "      <th>3</th>\n",
       "      <td>7023</td>\n",
       "      <td>18160</td>\n",
       "      <td>0.80</td>\n",
       "      <td>False</td>\n",
       "    </tr>\n",
       "    <tr>\n",
       "      <th>7</th>\n",
       "      <td>7886</td>\n",
       "      <td>41089</td>\n",
       "      <td>1.00</td>\n",
       "      <td>False</td>\n",
       "    </tr>\n",
       "    <tr>\n",
       "      <th>9</th>\n",
       "      <td>6773</td>\n",
       "      <td>16468</td>\n",
       "      <td>1.00</td>\n",
       "      <td>True</td>\n",
       "    </tr>\n",
       "    <tr>\n",
       "      <th>14</th>\n",
       "      <td>7516</td>\n",
       "      <td>9555</td>\n",
       "      <td>0.64</td>\n",
       "      <td>True</td>\n",
       "    </tr>\n",
       "  </tbody>\n",
       "</table>\n",
       "</div>"
      ],
      "text/plain": [
       "    user  track  time   test\n",
       "0   6056  30982  1.00  False\n",
       "3   7023  18160  0.80  False\n",
       "7   7886  41089  1.00  False\n",
       "9   6773  16468  1.00   True\n",
       "14  7516   9555  0.64   True"
      ]
     },
     "execution_count": 12,
     "metadata": {},
     "output_type": "execute_result"
    }
   ],
   "source": [
    "full_data = pd.read_json(\"/Users/n.anokhin/Desktop/week04.json\", lines=True)\n",
    "\n",
    "data = full_data[full_data[\"time\"] > 0.6]\n",
    "\n",
    "data.head()"
   ]
  },
  {
   "cell_type": "code",
   "execution_count": 17,
   "metadata": {
    "tags": []
   },
   "outputs": [
    {
     "data": {
      "text/plain": [
       "9270"
      ]
     },
     "execution_count": 17,
     "metadata": {},
     "output_type": "execute_result"
    }
   ],
   "source": [
    "user_counts = data.loc[~data[\"test\"], \"user\"].value_counts()\n",
    "users = set(user_counts[user_counts >= 3].index.values)\n",
    "\n",
    "len(users)"
   ]
  },
  {
   "cell_type": "code",
   "execution_count": 18,
   "metadata": {
    "tags": []
   },
   "outputs": [
    {
     "data": {
      "text/plain": [
       "3327"
      ]
     },
     "execution_count": 18,
     "metadata": {},
     "output_type": "execute_result"
    }
   ],
   "source": [
    "track_counts = data.loc[~data[\"test\"], \"track\"].value_counts()\n",
    "tracks = set(track_counts[track_counts >= 5].index.values)\n",
    "\n",
    "len(tracks)"
   ]
  },
  {
   "cell_type": "code",
   "execution_count": 19,
   "metadata": {
    "tags": []
   },
   "outputs": [
    {
     "data": {
      "text/plain": [
       "(20361, 6130)"
      ]
     },
     "execution_count": 19,
     "metadata": {},
     "output_type": "execute_result"
    }
   ],
   "source": [
    "train_data = data[~data[\"test\"] & data[\"user\"].isin(users) & data[\"track\"].isin(tracks)]\n",
    "test_data = full_data[full_data[\"test\"] & full_data[\"user\"].isin(users) & full_data[\"track\"].isin(tracks)]\n",
    "\n",
    "len(train_data), len(test_data)"
   ]
  },
  {
   "cell_type": "code",
   "execution_count": 20,
   "metadata": {
    "tags": []
   },
   "outputs": [],
   "source": [
    "dataset = ld.Dataset()\n",
    "dataset.fit(users, tracks)"
   ]
  },
  {
   "cell_type": "code",
   "execution_count": 21,
   "metadata": {
    "tags": []
   },
   "outputs": [],
   "source": [
    "train_interactions, _ = dataset.build_interactions(train_data[[\"user\", \"track\"]].itertuples(index=False, name=None))\n",
    "test_interactions, _ = dataset.build_interactions(test_data[[\"user\", \"track\"]].itertuples(index=False, name=None))"
   ]
  },
  {
   "cell_type": "code",
   "execution_count": 23,
   "metadata": {
    "tags": []
   },
   "outputs": [],
   "source": [
    "def fit_model(epochs=1, at=10, loss=\"warp\", no_components=30, learning_rate=0.01, max_sampled=10, user_alpha=0.0, item_alpha=0.0, threads=30, verbose=False):\n",
    "    model = lightfm.LightFM(\n",
    "        no_components=no_components,\n",
    "        loss=loss,\n",
    "        learning_rate=learning_rate,\n",
    "        max_sampled=max_sampled,\n",
    "        user_alpha=user_alpha,\n",
    "        item_alpha=user_alpha,\n",
    "    )\n",
    "\n",
    "    precisions_at = []\n",
    "    for epoch in range(epochs):\n",
    "        model = model.fit_partial(train_interactions, num_threads=threads)\n",
    "        precision_at = lv.precision_at_k(model, test_interactions, train_interactions=train_interactions, k=at, num_threads=threads)\n",
    "        if verbose:\n",
    "            print(f\"{epoch}:\\t{np.mean(precision_at)} +/- {ss.sem(precision_at) * 1.96}\")\n",
    "        precisions_at.append(np.mean(precision_at))\n",
    "            \n",
    "    return model, precisions_at\n",
    "\n",
    "\n",
    "def objective(trial):\n",
    "    loss = trial.suggest_categorical(\"loss\", [\"warp\", \"bpr\"])\n",
    "    no_components = trial.suggest_categorical(\"no_components\", [10, 30, 50])\n",
    "    learning_rate = trial.suggest_categorical(\"learning_rate\", [0.001, 0.01])\n",
    "    max_sampled = trial.suggest_categorical(\"max_sampled\", [10, 20, 50, 100])\n",
    "    user_alpha = trial.suggest_categorical(\"user_alpha\", [0.0, 0.001, 0.01])\n",
    "    item_alpha = trial.suggest_categorical(\"item_alpha\", [0.0, 0.001, 0.01])\n",
    "    \n",
    "    model, precisions_at = fit_model(\n",
    "        epochs=3, \n",
    "        at=10,\n",
    "        loss=loss,\n",
    "        no_components=no_components, \n",
    "        learning_rate=learning_rate, \n",
    "        max_sampled=max_sampled, \n",
    "        user_alpha=user_alpha, \n",
    "        item_alpha=item_alpha,\n",
    "    )\n",
    "    \n",
    "    return precisions_at[-1]"
   ]
  },
  {
   "cell_type": "code",
   "execution_count": 25,
   "metadata": {
    "tags": []
   },
   "outputs": [
    {
     "name": "stderr",
     "output_type": "stream",
     "text": [
      "\u001b[32m[I 2024-10-10 15:52:58,991]\u001b[0m A new study created in memory with name: no-name-b75548e2-9973-4af4-ba0d-ee6eae7b4d8d\u001b[0m\n",
      "\u001b[32m[I 2024-10-10 15:53:01,010]\u001b[0m Trial 0 finished with value: 0.0008789062267169356 and parameters: {'loss': 'warp', 'no_components': 50, 'learning_rate': 0.001, 'max_sampled': 100, 'user_alpha': 0.001, 'item_alpha': 0.01}. Best is trial 0 with value: 0.0008789062267169356.\u001b[0m\n",
      "\u001b[32m[I 2024-10-10 15:53:03,192]\u001b[0m Trial 1 finished with value: 0.0010009766556322575 and parameters: {'loss': 'warp', 'no_components': 50, 'learning_rate': 0.01, 'max_sampled': 100, 'user_alpha': 0.001, 'item_alpha': 0.0}. Best is trial 1 with value: 0.0010009766556322575.\u001b[0m\n",
      "\u001b[32m[I 2024-10-10 15:53:04,886]\u001b[0m Trial 2 finished with value: 0.0011962892021983862 and parameters: {'loss': 'warp', 'no_components': 10, 'learning_rate': 0.01, 'max_sampled': 50, 'user_alpha': 0.001, 'item_alpha': 0.01}. Best is trial 2 with value: 0.0011962892021983862.\u001b[0m\n",
      "\u001b[32m[I 2024-10-10 15:53:06,516]\u001b[0m Trial 3 finished with value: 0.0013183595146983862 and parameters: {'loss': 'warp', 'no_components': 10, 'learning_rate': 0.01, 'max_sampled': 100, 'user_alpha': 0.001, 'item_alpha': 0.0}. Best is trial 3 with value: 0.0013183595146983862.\u001b[0m\n",
      "\u001b[32m[I 2024-10-10 15:53:08,158]\u001b[0m Trial 4 finished with value: 0.0010253905784338713 and parameters: {'loss': 'warp', 'no_components': 10, 'learning_rate': 0.001, 'max_sampled': 100, 'user_alpha': 0.001, 'item_alpha': 0.01}. Best is trial 3 with value: 0.0013183595146983862.\u001b[0m\n",
      "\u001b[32m[I 2024-10-10 15:53:09,777]\u001b[0m Trial 5 finished with value: 0.0004150390450377017 and parameters: {'loss': 'bpr', 'no_components': 10, 'learning_rate': 0.001, 'max_sampled': 50, 'user_alpha': 0.001, 'item_alpha': 0.0}. Best is trial 3 with value: 0.0013183595146983862.\u001b[0m\n",
      "\u001b[32m[I 2024-10-10 15:53:11,669]\u001b[0m Trial 6 finished with value: 0.0006835937965661287 and parameters: {'loss': 'bpr', 'no_components': 50, 'learning_rate': 0.001, 'max_sampled': 50, 'user_alpha': 0.001, 'item_alpha': 0.0}. Best is trial 3 with value: 0.0013183595146983862.\u001b[0m\n",
      "\u001b[32m[I 2024-10-10 15:53:13,338]\u001b[0m Trial 7 finished with value: 0.0011962890857830644 and parameters: {'loss': 'warp', 'no_components': 10, 'learning_rate': 0.01, 'max_sampled': 100, 'user_alpha': 0.0, 'item_alpha': 0.01}. Best is trial 3 with value: 0.0013183595146983862.\u001b[0m\n",
      "\u001b[32m[I 2024-10-10 15:53:15,296]\u001b[0m Trial 8 finished with value: 0.0009033203823491931 and parameters: {'loss': 'warp', 'no_components': 30, 'learning_rate': 0.001, 'max_sampled': 100, 'user_alpha': 0.0, 'item_alpha': 0.01}. Best is trial 3 with value: 0.0013183595146983862.\u001b[0m\n",
      "\u001b[32m[I 2024-10-10 15:53:16,967]\u001b[0m Trial 9 finished with value: 0.0006835937383584678 and parameters: {'loss': 'bpr', 'no_components': 10, 'learning_rate': 0.01, 'max_sampled': 100, 'user_alpha': 0.0, 'item_alpha': 0.001}. Best is trial 3 with value: 0.0013183595146983862.\u001b[0m\n",
      "\u001b[32m[I 2024-10-10 15:53:18,970]\u001b[0m Trial 10 finished with value: 0.0012451172806322575 and parameters: {'loss': 'warp', 'no_components': 30, 'learning_rate': 0.01, 'max_sampled': 10, 'user_alpha': 0.01, 'item_alpha': 0.001}. Best is trial 3 with value: 0.0013183595146983862.\u001b[0m\n",
      "\u001b[32m[I 2024-10-10 15:53:20,953]\u001b[0m Trial 11 finished with value: 0.001220703125 and parameters: {'loss': 'warp', 'no_components': 30, 'learning_rate': 0.01, 'max_sampled': 10, 'user_alpha': 0.01, 'item_alpha': 0.001}. Best is trial 3 with value: 0.0013183595146983862.\u001b[0m\n",
      "\u001b[32m[I 2024-10-10 15:53:22,905]\u001b[0m Trial 12 finished with value: 0.0011962890857830644 and parameters: {'loss': 'warp', 'no_components': 30, 'learning_rate': 0.01, 'max_sampled': 20, 'user_alpha': 0.01, 'item_alpha': 0.001}. Best is trial 3 with value: 0.0013183595146983862.\u001b[0m\n",
      "\u001b[32m[I 2024-10-10 15:53:24,932]\u001b[0m Trial 13 finished with value: 0.0010498047340661287 and parameters: {'loss': 'warp', 'no_components': 30, 'learning_rate': 0.01, 'max_sampled': 10, 'user_alpha': 0.01, 'item_alpha': 0.001}. Best is trial 3 with value: 0.0013183595146983862.\u001b[0m\n",
      "\u001b[32m[I 2024-10-10 15:53:26,943]\u001b[0m Trial 14 finished with value: 0.0005126952892169356 and parameters: {'loss': 'bpr', 'no_components': 30, 'learning_rate': 0.01, 'max_sampled': 10, 'user_alpha': 0.01, 'item_alpha': 0.0}. Best is trial 3 with value: 0.0013183595146983862.\u001b[0m\n",
      "\u001b[32m[I 2024-10-10 15:53:28,847]\u001b[0m Trial 15 finished with value: 0.0012939453590661287 and parameters: {'loss': 'warp', 'no_components': 30, 'learning_rate': 0.01, 'max_sampled': 20, 'user_alpha': 0.01, 'item_alpha': 0.001}. Best is trial 3 with value: 0.0013183595146983862.\u001b[0m\n",
      "\u001b[32m[I 2024-10-10 15:53:30,586]\u001b[0m Trial 16 finished with value: 0.0013183593982830644 and parameters: {'loss': 'warp', 'no_components': 10, 'learning_rate': 0.01, 'max_sampled': 20, 'user_alpha': 0.01, 'item_alpha': 0.0}. Best is trial 3 with value: 0.0013183595146983862.\u001b[0m\n",
      "\u001b[32m[I 2024-10-10 15:53:32,305]\u001b[0m Trial 17 finished with value: 0.0011474608909338713 and parameters: {'loss': 'warp', 'no_components': 10, 'learning_rate': 0.01, 'max_sampled': 20, 'user_alpha': 0.01, 'item_alpha': 0.0}. Best is trial 3 with value: 0.0013183595146983862.\u001b[0m\n",
      "\u001b[32m[I 2024-10-10 15:53:34,024]\u001b[0m Trial 18 finished with value: 0.0003662109375 and parameters: {'loss': 'bpr', 'no_components': 10, 'learning_rate': 0.01, 'max_sampled': 20, 'user_alpha': 0.001, 'item_alpha': 0.0}. Best is trial 3 with value: 0.0013183595146983862.\u001b[0m\n",
      "\u001b[32m[I 2024-10-10 15:53:35,688]\u001b[0m Trial 19 finished with value: 0.0012939453590661287 and parameters: {'loss': 'warp', 'no_components': 10, 'learning_rate': 0.01, 'max_sampled': 20, 'user_alpha': 0.0, 'item_alpha': 0.0}. Best is trial 3 with value: 0.0013183595146983862.\u001b[0m\n",
      "\u001b[32m[I 2024-10-10 15:53:37,401]\u001b[0m Trial 20 finished with value: 0.001147461007349193 and parameters: {'loss': 'warp', 'no_components': 10, 'learning_rate': 0.01, 'max_sampled': 20, 'user_alpha': 0.01, 'item_alpha': 0.0}. Best is trial 3 with value: 0.0013183595146983862.\u001b[0m\n",
      "\u001b[32m[I 2024-10-10 15:53:39,128]\u001b[0m Trial 21 finished with value: 0.0012939453590661287 and parameters: {'loss': 'warp', 'no_components': 10, 'learning_rate': 0.01, 'max_sampled': 20, 'user_alpha': 0.01, 'item_alpha': 0.001}. Best is trial 3 with value: 0.0013183595146983862.\u001b[0m\n",
      "\u001b[32m[I 2024-10-10 15:53:41,154]\u001b[0m Trial 22 finished with value: 0.001147461007349193 and parameters: {'loss': 'warp', 'no_components': 30, 'learning_rate': 0.01, 'max_sampled': 20, 'user_alpha': 0.01, 'item_alpha': 0.0}. Best is trial 3 with value: 0.0013183595146983862.\u001b[0m\n",
      "\u001b[32m[I 2024-10-10 15:53:43,147]\u001b[0m Trial 23 finished with value: 0.0011474608909338713 and parameters: {'loss': 'warp', 'no_components': 50, 'learning_rate': 0.01, 'max_sampled': 20, 'user_alpha': 0.01, 'item_alpha': 0.0}. Best is trial 3 with value: 0.0013183595146983862.\u001b[0m\n",
      "\u001b[32m[I 2024-10-10 15:53:44,878]\u001b[0m Trial 24 finished with value: 0.001147461007349193 and parameters: {'loss': 'warp', 'no_components': 10, 'learning_rate': 0.01, 'max_sampled': 20, 'user_alpha': 0.01, 'item_alpha': 0.001}. Best is trial 3 with value: 0.0013183595146983862.\u001b[0m\n",
      "\u001b[32m[I 2024-10-10 15:53:46,880]\u001b[0m Trial 25 finished with value: 0.0011718750465661287 and parameters: {'loss': 'warp', 'no_components': 30, 'learning_rate': 0.01, 'max_sampled': 20, 'user_alpha': 0.001, 'item_alpha': 0.0}. Best is trial 3 with value: 0.0013183595146983862.\u001b[0m\n",
      "\u001b[32m[I 2024-10-10 15:53:48,563]\u001b[0m Trial 26 finished with value: 0.00046386721078306437 and parameters: {'loss': 'bpr', 'no_components': 10, 'learning_rate': 0.001, 'max_sampled': 100, 'user_alpha': 0.01, 'item_alpha': 0.001}. Best is trial 3 with value: 0.0013183595146983862.\u001b[0m\n",
      "\u001b[32m[I 2024-10-10 15:53:50,518]\u001b[0m Trial 27 finished with value: 0.0011230469681322575 and parameters: {'loss': 'warp', 'no_components': 30, 'learning_rate': 0.01, 'max_sampled': 50, 'user_alpha': 0.001, 'item_alpha': 0.0}. Best is trial 3 with value: 0.0013183595146983862.\u001b[0m\n",
      "\u001b[32m[I 2024-10-10 15:53:52,265]\u001b[0m Trial 28 finished with value: 0.0013916015159338713 and parameters: {'loss': 'warp', 'no_components': 10, 'learning_rate': 0.01, 'max_sampled': 20, 'user_alpha': 0.0, 'item_alpha': 0.001}. Best is trial 28 with value: 0.0013916015159338713.\u001b[0m\n",
      "\u001b[32m[I 2024-10-10 15:53:53,975]\u001b[0m Trial 29 finished with value: 0.0008056640508584678 and parameters: {'loss': 'warp', 'no_components': 10, 'learning_rate': 0.001, 'max_sampled': 100, 'user_alpha': 0.0, 'item_alpha': 0.0}. Best is trial 28 with value: 0.0013916015159338713.\u001b[0m\n"
     ]
    },
    {
     "data": {
      "text/plain": [
       "{'loss': 'warp',\n",
       " 'no_components': 10,\n",
       " 'learning_rate': 0.01,\n",
       " 'max_sampled': 20,\n",
       " 'user_alpha': 0.0,\n",
       " 'item_alpha': 0.001}"
      ]
     },
     "execution_count": 25,
     "metadata": {},
     "output_type": "execute_result"
    }
   ],
   "source": [
    "study = optuna.create_study(direction=\"maximize\")\n",
    "study.optimize(objective, n_trials=30)\n",
    "best_params = study.best_params\n",
    "\n",
    "best_params"
   ]
  },
  {
   "cell_type": "code",
   "execution_count": 26,
   "metadata": {
    "collapsed": true,
    "jupyter": {
     "outputs_hidden": true
    },
    "tags": []
   },
   "outputs": [],
   "source": [
    "best_params = {\n",
    "    'loss': 'warp',\n",
    "    'no_components': 50,\n",
    "    'learning_rate': 0.01,\n",
    "    'max_sampled': 100,\n",
    "    'user_alpha': 0.0,\n",
    "    'item_alpha': 0.001\n",
    "}"
   ]
  },
  {
   "cell_type": "code",
   "execution_count": 27,
   "metadata": {
    "tags": []
   },
   "outputs": [
    {
     "name": "stdout",
     "output_type": "stream",
     "text": [
      "0:\t0.0007812499534338713 +/- 0.00026966277218889447\n",
      "1:\t0.0009521485189907253 +/- 0.0002974431030452251\n",
      "2:\t0.0009277343633584678 +/- 0.0002936412103008479\n",
      "3:\t0.0009277344215661287 +/- 0.0002936412103008479\n",
      "4:\t0.0011718750465661287 +/- 0.00032961740973405537\n",
      "5:\t0.0012451172806322575 +/- 0.0003463137021753937\n",
      "6:\t0.0014160156715661287 +/- 0.0003743254014989361\n",
      "7:\t0.0017822266090661287 +/- 0.000427243608282879\n",
      "8:\t0.002368164248764515 +/- 0.0004943530703894794\n",
      "9:\t0.0029296875 +/- 0.0005672352213878185\n",
      "10:\t0.003588867373764515 +/- 0.0006271408870816231\n",
      "11:\t0.004321289248764515 +/- 0.0006858007225673645\n",
      "12:\t0.00510253943502903 +/- 0.000754169134888798\n",
      "13:\t0.0057373046875 +/- 0.0008001170528586953\n",
      "14:\t0.006640625186264515 +/- 0.0008560156973544508\n",
      "15:\t0.00766601599752903 +/- 0.0009229516901541501\n",
      "16:\t0.00861816480755806 +/- 0.000974433512892574\n",
      "17:\t0.00966796837747097 +/- 0.0010394148528575897\n",
      "18:\t0.010791015811264515 +/- 0.0011082928348332642\n",
      "19:\t0.012133789248764515 +/- 0.00115721448790282\n",
      "20:\t0.013330078683793545 +/- 0.0012099671829491853\n",
      "21:\t0.01472168043255806 +/- 0.001262772015761584\n",
      "22:\t0.01616211049258709 +/- 0.0013254054449498653\n",
      "23:\t0.01760254055261612 +/- 0.0013804898504167795\n",
      "24:\t0.01843261905014515 +/- 0.0014130774373188615\n",
      "25:\t0.01958007737994194 +/- 0.0014444438368082047\n",
      "26:\t0.02048340067267418 +/- 0.0014775032876059413\n",
      "27:\t0.02158203162252903 +/- 0.0015067216567695141\n",
      "28:\t0.02265625074505806 +/- 0.001540198209695518\n",
      "29:\t0.02336425706744194 +/- 0.0015591559349559247\n",
      "30:\t0.02431640774011612 +/- 0.0015885549038648606\n",
      "31:\t0.02534179762005806 +/- 0.0016165266442112625\n",
      "32:\t0.02614746242761612 +/- 0.0016306393221020698\n",
      "33:\t0.027099609375 +/- 0.0016572725935839116\n",
      "34:\t0.02780761569738388 +/- 0.0016840580571442843\n",
      "35:\t0.02854003943502903 +/- 0.001706414776854217\n",
      "36:\t0.02937011793255806 +/- 0.0017239812109619379\n",
      "37:\t0.03024902381002903 +/- 0.0017402038141153752\n",
      "38:\t0.03098144754767418 +/- 0.0017595948418602347\n",
      "39:\t0.03178711235523224 +/- 0.0017766200471669436\n",
      "40:\t0.03227539360523224 +/- 0.0017876643547788261\n",
      "41:\t0.03288574144244194 +/- 0.0017970625008456409\n",
      "42:\t0.03400878980755806 +/- 0.0018143307114951313\n",
      "43:\t0.03461914137005806 +/- 0.001828065647277981\n",
      "44:\t0.03505859524011612 +/- 0.0018377234553918242\n",
      "45:\t0.0357666052877903 +/- 0.0018566079367883504\n",
      "46:\t0.03642578050494194 +/- 0.0018686017906293273\n",
      "47:\t0.03701172024011612 +/- 0.001876170323230326\n",
      "48:\t0.03752441704273224 +/- 0.0018855148483999072\n",
      "49:\t0.03818359598517418 +/- 0.0019003720581531524\n",
      "50:\t0.03862304985523224 +/- 0.0019136880664154888\n",
      "51:\t0.03911133110523224 +/- 0.0019175455765798688\n",
      "52:\t0.03935547173023224 +/- 0.0019164425833150744\n",
      "53:\t0.03994140774011612 +/- 0.0019194093020632862\n",
      "54:\t0.04033203423023224 +/- 0.0019319905899465083\n",
      "55:\t0.040771484375 +/- 0.0019399178121238946\n",
      "56:\t0.04104004055261612 +/- 0.001950514898635447\n",
      "57:\t0.04133301228284836 +/- 0.0019541020225733517\n",
      "58:\t0.04152832180261612 +/- 0.0019584167934954167\n",
      "59:\t0.04160156473517418 +/- 0.001957543115131557\n",
      "60:\t0.04177246242761612 +/- 0.001960561629384756\n",
      "61:\t0.04201660305261612 +/- 0.0019650080567225814\n",
      "62:\t0.04233398288488388 +/- 0.0019708470301702617\n",
      "63:\t0.04250488430261612 +/- 0.001974945720285177\n",
      "64:\t0.04289551079273224 +/- 0.001979773654602468\n",
      "65:\t0.04316406697034836 +/- 0.0019829717418178914\n",
      "66:\t0.04323730617761612 +/- 0.0019832072174176575\n",
      "67:\t0.04323730617761612 +/- 0.0019820519722998143\n",
      "68:\t0.04345703125 +/- 0.001985052688978612\n",
      "69:\t0.04360351711511612 +/- 0.0019889581156894566\n",
      "70:\t0.0438232421875 +/- 0.0019930600002408027\n",
      "71:\t0.04389648884534836 +/- 0.0019909724360331893\n",
      "72:\t0.04387207329273224 +/- 0.0019897512486204503\n",
      "73:\t0.04404296725988388 +/- 0.0019913886254653334\n",
      "74:\t0.04426269978284836 +/- 0.0019954398553818464\n",
      "75:\t0.04458007961511612 +/- 0.002000856250524521\n",
      "76:\t0.04482422024011612 +/- 0.002003749725408852\n",
      "77:\t0.04470214992761612 +/- 0.0019988725055009125\n",
      "78:\t0.04475098103284836 +/- 0.0020024274569004773\n",
      "79:\t0.04484863579273224 +/- 0.0020015213778242467\n",
      "80:\t0.04499511793255806 +/- 0.0020018702559173106\n",
      "81:\t0.04514160379767418 +/- 0.0020033522462472317\n",
      "82:\t0.04531250149011612 +/- 0.0020060191443189977\n",
      "83:\t0.04521484673023224 +/- 0.0020046603679656984\n",
      "84:\t0.04521484673023224 +/- 0.002006944161839783\n",
      "85:\t0.04545898735523224 +/- 0.002009756863117218\n",
      "86:\t0.04536132887005806 +/- 0.0020084074418991803\n",
      "87:\t0.04541015625 +/- 0.0020096525875851513\n",
      "88:\t0.04545898735523224 +/- 0.002009756863117218\n",
      "89:\t0.04558105766773224 +/- 0.002011151006445289\n",
      "90:\t0.0455322265625 +/- 0.00200534762814641\n",
      "91:\t0.04550781473517418 +/- 0.0020064380718395115\n",
      "92:\t0.04562988877296448 +/- 0.002007832215167582\n",
      "93:\t0.04582519829273224 +/- 0.0020059395115822553\n",
      "94:\t0.0456543006002903 +/- 0.00200331368483603\n",
      "95:\t0.04572753980755806 +/- 0.0020068882592022418\n",
      "96:\t0.04575195163488388 +/- 0.002003510370850563\n",
      "97:\t0.0456543006002903 +/- 0.001999881034716964\n",
      "98:\t0.04570312798023224 +/- 0.0020022693322971465\n",
      "99:\t0.045654296875 +/- 0.0019987353729084135\n"
     ]
    }
   ],
   "source": [
    "model, precisions_at = fit_model(\n",
    "    epochs=100,\n",
    "    at=10,\n",
    "    loss=best_params[\"loss\"],\n",
    "    no_components=best_params[\"no_components\"], \n",
    "    learning_rate=best_params[\"learning_rate\"], \n",
    "    max_sampled=best_params[\"max_sampled\"],\n",
    "    user_alpha=best_params[\"user_alpha\"],\n",
    "    item_alpha=best_params[\"item_alpha\"],\n",
    "    verbose=True,\n",
    ")"
   ]
  },
  {
   "cell_type": "code",
   "execution_count": 28,
   "metadata": {
    "tags": []
   },
   "outputs": [
    {
     "data": {
      "image/png": "[encoded data removed]",
      "text/plain": [
       "<Figure size 640x480 with 1 Axes>"
      ]
     },
     "metadata": {},
     "output_type": "display_data"
    }
   ],
   "source": [
    "figure, ax = pl.subplots()\n",
    "\n",
    "ax.plot(np.arange(len(precisions_at)), precisions_at)\n",
    "\n",
    "pass"
   ]
  },
  {
   "cell_type": "code",
   "execution_count": 29,
   "metadata": {
    "tags": []
   },
   "outputs": [
    {
     "data": {
      "text/plain": [
       "0.7242846755086635"
      ]
     },
     "execution_count": 29,
     "metadata": {},
     "output_type": "execute_result"
    }
   ],
   "source": [
    "predictions = model.predict(\n",
    "    test_data[\"user\"].map(dataset.mapping()[0]).values,\n",
    "    test_data[\"track\"].map(dataset.mapping()[2]).values,\n",
    ")\n",
    "\n",
    "rmse = np.sqrt(((predictions - test_data[\"time\"].values) * (predictions - test_data[\"time\"].values)).mean())\n",
    "rmse # Q: ???"
   ]
  },
  {
   "cell_type": "markdown",
   "metadata": {},
   "source": [
    "## Save track embeddings"
   ]
  },
  {
   "cell_type": "code",
   "execution_count": 30,
   "metadata": {
    "tags": []
   },
   "outputs": [],
   "source": [
    "BOTIFY_DATA_DIR = \"/Users/n.anokhin/Projects/recsys-course/botify/data/\""
   ]
  },
  {
   "cell_type": "code",
   "execution_count": 31,
   "metadata": {
    "tags": []
   },
   "outputs": [],
   "source": [
    "biases, embeddings = model.get_item_representations()"
   ]
  },
  {
   "cell_type": "code",
   "execution_count": 32,
   "metadata": {
    "tags": []
   },
   "outputs": [],
   "source": [
    "track_meta = pd.read_json(BOTIFY_DATA_DIR + \"tracks.json\", lines=True)\n",
    "track_meta[\"dataset_index\"] = track_meta[\"track\"].map(lambda t: dataset.mapping()[2].get(t))"
   ]
  },
  {
   "cell_type": "code",
   "execution_count": 33,
   "metadata": {
    "tags": []
   },
   "outputs": [],
   "source": [
    "dataset_tracks = track_meta[pd.notnull(track_meta[\"dataset_index\"])].sort_values(\"dataset_index\")"
   ]
  },
  {
   "cell_type": "code",
   "execution_count": 34,
   "metadata": {
    "tags": []
   },
   "outputs": [],
   "source": [
    "writer = tb.SummaryWriter(comment='msd_ligtfm_embeddings', log_dir=\"/Users/n.anokhin/Desktop/tb\")\n",
    "writer.add_embedding(embeddings, metadata=list(dataset_tracks[[\"artist\", \"title\"]].itertuples(index=False, name=None)), tag=\"lightfm\", metadata_header=[\"artist\", \"title\"])\n",
    "writer.close()"
   ]
  },
  {
   "cell_type": "markdown",
   "metadata": {},
   "source": [
    "## Compute top recommendations"
   ]
  },
  {
   "cell_type": "code",
   "execution_count": 35,
   "metadata": {
    "tags": []
   },
   "outputs": [],
   "source": [
    "tracks = dataset_tracks[\"track\"].values\n",
    "users = [user for user, index in sorted(dataset.mapping()[0].items(), key=lambda kv: kv[1])]"
   ]
  },
  {
   "cell_type": "code",
   "execution_count": 36,
   "metadata": {
    "tags": []
   },
   "outputs": [
    {
     "data": {
      "text/plain": [
       "array([-0.78103983, -0.54207706, -0.74053866, ..., -0.09067989,\n",
       "       -0.6363414 , -0.57208824], dtype=float32)"
      ]
     },
     "execution_count": 36,
     "metadata": {},
     "output_type": "execute_result"
    }
   ],
   "source": [
    "predictions = model.predict(1, np.arange(dataset.item_features_shape()[0]), num_threads=30)\n",
    "predictions"
   ]
  },
  {
   "cell_type": "code",
   "execution_count": 37,
   "metadata": {
    "tags": []
   },
   "outputs": [
    {
     "name": "stderr",
     "output_type": "stream",
     "text": [
      "100%|█████████████████████████████████████████████████████████████████████████████████████████████████████████████████████████████████████████████████████████████████| 9270/9270 [00:06<00:00, 1443.81it/s]\n"
     ]
    }
   ],
   "source": [
    "with open(BOTIFY_DATA_DIR + \"recommendations_lfm.json\", \"w\") as rf:\n",
    "    for user_index in tqdm.tqdm(range(dataset.user_features_shape()[0])):\n",
    "        predictions = model.predict(user_index, np.arange(dataset.item_features_shape()[0]), num_threads=30)\n",
    "        top = tracks[np.argsort(predictions)[-100:]]\n",
    "        recommendation = {\n",
    "            \"user\": int(users[user_index]),\n",
    "            \"tracks\": top.tolist()\n",
    "        }\n",
    "        rf.write(json.dumps(recommendation) + \"\\n\")"
   ]
  },
  {
   "cell_type": "code",
   "execution_count": null,
   "metadata": {
    "tags": []
   },
   "outputs": [],
   "source": []
  }
 ],
 "metadata": {
  "kernelspec": {
   "display_name": "Python 3 (ipykernel)",
   "language": "python",
   "name": "python3"
  },
  "language_info": {
   "codemirror_mode": {
    "name": "ipython",
    "version": 3
   },
   "file_extension": ".py",
   "mimetype": "text/x-python",
   "name": "python",
   "nbconvert_exporter": "python",
   "pygments_lexer": "ipython3",
   "version": "3.8.0"
  }
 },
 "nbformat": 4,
 "nbformat_minor": 4
}
