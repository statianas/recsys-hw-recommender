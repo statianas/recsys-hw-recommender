{
 "cells": [
  {
   "cell_type": "markdown",
   "metadata": {},
   "source": [
    "## Домашнее задание 1\n",
    "\n",
    "### Обучаем LightFM бейзлайн"
   ]
  },
  {
   "cell_type": "code",
   "execution_count": 1,
   "metadata": {
    "tags": []
   },
   "outputs": [
    {
     "name": "stderr",
     "output_type": "stream",
     "text": [
      "/Users/n.anokhin/Projects/virtualenv/recsys-course/lib/python3.8/site-packages/lightfm/_lightfm_fast.py:9: UserWarning: LightFM was compiled without OpenMP support. Only a single thread will be used.\n",
      "  warnings.warn(\n"
     ]
    }
   ],
   "source": [
    "import pandas as pd\n",
    "import numpy as np\n",
    "import scipy.stats as ss\n",
    "import scipy.special as sp\n",
    "\n",
    "import lightfm\n",
    "import lightfm.data as ld\n",
    "import lightfm.evaluation as lv\n",
    "\n",
    "import tqdm\n",
    "import json\n",
    "import optuna\n",
    "\n",
    "import tensorboardX as tb\n",
    "\n",
    "import matplotlib.pyplot as pl\n",
    "import seaborn as sns\n",
    "\n",
    "np.random.seed(31337)"
   ]
  },
  {
   "cell_type": "code",
   "execution_count": 2,
   "metadata": {
    "tags": []
   },
   "outputs": [
    {
     "data": {
      "text/html": [
       "<div>\n",
       "<style scoped>\n",
       "    .dataframe tbody tr th:only-of-type {\n",
       "        vertical-align: middle;\n",
       "    }\n",
       "\n",
       "    .dataframe tbody tr th {\n",
       "        vertical-align: top;\n",
       "    }\n",
       "\n",
       "    .dataframe thead th {\n",
       "        text-align: right;\n",
       "    }\n",
       "</style>\n",
       "<table border=\"1\" class=\"dataframe\">\n",
       "  <thead>\n",
       "    <tr style=\"text-align: right;\">\n",
       "      <th></th>\n",
       "      <th>index</th>\n",
       "      <th>user</th>\n",
       "      <th>track</th>\n",
       "      <th>time</th>\n",
       "      <th>test</th>\n",
       "    </tr>\n",
       "  </thead>\n",
       "  <tbody>\n",
       "    <tr>\n",
       "      <th>0</th>\n",
       "      <td>8</td>\n",
       "      <td>4b90453a4a89fdd400cbeb7339c8fe8c</td>\n",
       "      <td>4945</td>\n",
       "      <td>1.0</td>\n",
       "      <td>False</td>\n",
       "    </tr>\n",
       "    <tr>\n",
       "      <th>1</th>\n",
       "      <td>27</td>\n",
       "      <td>4b90453a4a89fdd400cbeb7339c8fe8c</td>\n",
       "      <td>14427</td>\n",
       "      <td>1.0</td>\n",
       "      <td>True</td>\n",
       "    </tr>\n",
       "    <tr>\n",
       "      <th>2</th>\n",
       "      <td>34</td>\n",
       "      <td>4b90453a4a89fdd400cbeb7339c8fe8c</td>\n",
       "      <td>18078</td>\n",
       "      <td>1.0</td>\n",
       "      <td>False</td>\n",
       "    </tr>\n",
       "    <tr>\n",
       "      <th>3</th>\n",
       "      <td>38</td>\n",
       "      <td>4b90453a4a89fdd400cbeb7339c8fe8c</td>\n",
       "      <td>22374</td>\n",
       "      <td>1.0</td>\n",
       "      <td>False</td>\n",
       "    </tr>\n",
       "    <tr>\n",
       "      <th>4</th>\n",
       "      <td>55</td>\n",
       "      <td>4b90453a4a89fdd400cbeb7339c8fe8c</td>\n",
       "      <td>37715</td>\n",
       "      <td>1.0</td>\n",
       "      <td>False</td>\n",
       "    </tr>\n",
       "    <tr>\n",
       "      <th>5</th>\n",
       "      <td>64</td>\n",
       "      <td>4b90453a4a89fdd400cbeb7339c8fe8c</td>\n",
       "      <td>40528</td>\n",
       "      <td>1.0</td>\n",
       "      <td>True</td>\n",
       "    </tr>\n",
       "    <tr>\n",
       "      <th>6</th>\n",
       "      <td>67</td>\n",
       "      <td>4b90453a4a89fdd400cbeb7339c8fe8c</td>\n",
       "      <td>40537</td>\n",
       "      <td>1.0</td>\n",
       "      <td>True</td>\n",
       "    </tr>\n",
       "    <tr>\n",
       "      <th>7</th>\n",
       "      <td>71</td>\n",
       "      <td>4b90453a4a89fdd400cbeb7339c8fe8c</td>\n",
       "      <td>44790</td>\n",
       "      <td>0.8</td>\n",
       "      <td>False</td>\n",
       "    </tr>\n",
       "    <tr>\n",
       "      <th>8</th>\n",
       "      <td>74</td>\n",
       "      <td>4b90453a4a89fdd400cbeb7339c8fe8c</td>\n",
       "      <td>45270</td>\n",
       "      <td>0.8</td>\n",
       "      <td>False</td>\n",
       "    </tr>\n",
       "    <tr>\n",
       "      <th>9</th>\n",
       "      <td>82</td>\n",
       "      <td>4b90453a4a89fdd400cbeb7339c8fe8c</td>\n",
       "      <td>47124</td>\n",
       "      <td>0.8</td>\n",
       "      <td>False</td>\n",
       "    </tr>\n",
       "  </tbody>\n",
       "</table>\n",
       "</div>"
      ],
      "text/plain": [
       "   index                              user  track  time   test\n",
       "0      8  4b90453a4a89fdd400cbeb7339c8fe8c   4945   1.0  False\n",
       "1     27  4b90453a4a89fdd400cbeb7339c8fe8c  14427   1.0   True\n",
       "2     34  4b90453a4a89fdd400cbeb7339c8fe8c  18078   1.0  False\n",
       "3     38  4b90453a4a89fdd400cbeb7339c8fe8c  22374   1.0  False\n",
       "4     55  4b90453a4a89fdd400cbeb7339c8fe8c  37715   1.0  False\n",
       "5     64  4b90453a4a89fdd400cbeb7339c8fe8c  40528   1.0   True\n",
       "6     67  4b90453a4a89fdd400cbeb7339c8fe8c  40537   1.0   True\n",
       "7     71  4b90453a4a89fdd400cbeb7339c8fe8c  44790   0.8  False\n",
       "8     74  4b90453a4a89fdd400cbeb7339c8fe8c  45270   0.8  False\n",
       "9     82  4b90453a4a89fdd400cbeb7339c8fe8c  47124   0.8  False"
      ]
     },
     "execution_count": 2,
     "metadata": {},
     "output_type": "execute_result"
    }
   ],
   "source": [
    "data = pd.read_csv(\"/Users/n.anokhin/Documents/data/recsys-course/fall24-hw1/train.csv\")\n",
    "\n",
    "data = data[data[\"time\"] > 0.75].copy().reset_index()\n",
    "\n",
    "data[\"test\"] = np.random.random(len(data)) > 0.8\n",
    "\n",
    "data.head(10)"
   ]
  },
  {
   "cell_type": "code",
   "execution_count": 3,
   "metadata": {
    "tags": []
   },
   "outputs": [
    {
     "data": {
      "text/plain": [
       "9948"
      ]
     },
     "execution_count": 3,
     "metadata": {},
     "output_type": "execute_result"
    }
   ],
   "source": [
    "user_counts = data.loc[~data[\"test\"], \"user\"].value_counts()\n",
    "users = set(user_counts[user_counts >= 5].index.values)\n",
    "\n",
    "len(users)"
   ]
  },
  {
   "cell_type": "code",
   "execution_count": 4,
   "metadata": {
    "tags": []
   },
   "outputs": [
    {
     "data": {
      "text/plain": [
       "22984"
      ]
     },
     "execution_count": 4,
     "metadata": {},
     "output_type": "execute_result"
    }
   ],
   "source": [
    "track_counts = data.loc[~data[\"test\"], \"track\"].value_counts()\n",
    "tracks = set(track_counts[track_counts >= 3].index.values)\n",
    "\n",
    "len(tracks)"
   ]
  },
  {
   "cell_type": "code",
   "execution_count": 5,
   "metadata": {
    "tags": []
   },
   "outputs": [
    {
     "data": {
      "text/plain": [
       "(129597, 27156)"
      ]
     },
     "execution_count": 5,
     "metadata": {},
     "output_type": "execute_result"
    }
   ],
   "source": [
    "train_data = data[~data[\"test\"] & data[\"user\"].isin(users) & data[\"track\"].isin(tracks)]\n",
    "test_data = data[data[\"test\"] & data[\"user\"].isin(users) & data[\"track\"].isin(tracks)]\n",
    "\n",
    "len(train_data), len(test_data)"
   ]
  },
  {
   "cell_type": "code",
   "execution_count": 6,
   "metadata": {
    "tags": []
   },
   "outputs": [],
   "source": [
    "dataset = ld.Dataset()\n",
    "dataset.fit(users, tracks)"
   ]
  },
  {
   "cell_type": "code",
   "execution_count": 7,
   "metadata": {
    "tags": []
   },
   "outputs": [],
   "source": [
    "train_interactions, _ = dataset.build_interactions(train_data[[\"user\", \"track\"]].itertuples(index=False, name=None))\n",
    "test_interactions, _ = dataset.build_interactions(test_data[[\"user\", \"track\"]].itertuples(index=False, name=None))"
   ]
  },
  {
   "cell_type": "code",
   "execution_count": 8,
   "metadata": {
    "tags": []
   },
   "outputs": [],
   "source": [
    "def fit_model(epochs=1, at=10, loss=\"warp\", no_components=30, learning_rate=0.01, max_sampled=10, user_alpha=0.0, item_alpha=0.0, threads=30, verbose=False):\n",
    "    model = lightfm.LightFM(\n",
    "        no_components=no_components,\n",
    "        loss=loss,\n",
    "        learning_rate=learning_rate,\n",
    "        max_sampled=max_sampled,\n",
    "        user_alpha=user_alpha,\n",
    "        item_alpha=user_alpha,\n",
    "    )\n",
    "\n",
    "    precisions_at = []\n",
    "    for epoch in range(epochs):\n",
    "        model = model.fit_partial(train_interactions, num_threads=threads)\n",
    "        precision_at = lv.precision_at_k(model, test_interactions, train_interactions=train_interactions, k=at, num_threads=threads)\n",
    "        if verbose:\n",
    "            print(f\"{epoch}:\\t{np.mean(precision_at)} +/- {ss.sem(precision_at) * 1.96}\")\n",
    "        precisions_at.append(np.mean(precision_at))\n",
    "            \n",
    "    return model, precisions_at\n",
    "\n",
    "\n",
    "def objective(trial):\n",
    "    loss = trial.suggest_categorical(\"loss\", [\"warp\", \"bpr\"])\n",
    "    no_components = trial.suggest_categorical(\"no_components\", [10, 30, 50])\n",
    "    learning_rate = trial.suggest_categorical(\"learning_rate\", [0.001, 0.01])\n",
    "    max_sampled = trial.suggest_categorical(\"max_sampled\", [10, 20, 50, 100])\n",
    "    user_alpha = trial.suggest_categorical(\"user_alpha\", [0.0, 0.001, 0.01])\n",
    "    item_alpha = trial.suggest_categorical(\"item_alpha\", [0.0, 0.001, 0.01])\n",
    "    \n",
    "    model, precisions_at = fit_model(\n",
    "        epochs=1, \n",
    "        at=10,\n",
    "        loss=loss,\n",
    "        no_components=no_components, \n",
    "        learning_rate=learning_rate, \n",
    "        max_sampled=max_sampled, \n",
    "        user_alpha=user_alpha, \n",
    "        item_alpha=item_alpha,\n",
    "    )\n",
    "    \n",
    "    return precisions_at[-1]\n"
   ]
  },
  {
   "cell_type": "raw",
   "metadata": {
    "tags": []
   },
   "source": [
    "study = optuna.create_study(direction=\"maximize\")\n",
    "study.optimize(objective, n_trials=30)\n",
    "best_params = study.best_params\n",
    "\n",
    "best_params"
   ]
  },
  {
   "cell_type": "code",
   "execution_count": 9,
   "metadata": {
    "tags": []
   },
   "outputs": [],
   "source": [
    "best_params = {\n",
    "    'loss': 'warp',\n",
    "    'no_components': 50,\n",
    "    'learning_rate': 0.01,\n",
    "    'max_sampled': 100,\n",
    "    'user_alpha': 0.0,\n",
    "    'item_alpha': 0.01\n",
    "}"
   ]
  },
  {
   "cell_type": "code",
   "execution_count": 10,
   "metadata": {
    "tags": []
   },
   "outputs": [
    {
     "name": "stdout",
     "output_type": "stream",
     "text": [
      "0:\t0.001628087367862463 +/- 0.00026993216804300813\n",
      "1:\t0.0016945397946983576 +/- 0.0002800443105217731\n",
      "2:\t0.0017609924543648958 +/- 0.00028652636003981925\n",
      "3:\t0.0020600289572030306 +/- 0.0003177006874293735\n",
      "4:\t0.0028353084344416857 +/- 0.000378971369904628\n",
      "5:\t0.0039650010876357555 +/- 0.0004511121027123729\n",
      "6:\t0.004895336925983429 +/- 0.0005027703628061671\n",
      "7:\t0.005692767910659313 +/- 0.0005520838400745736\n",
      "8:\t0.00658987695351243 +/- 0.0005936498788728921\n",
      "9:\t0.007331931032240391 +/- 0.0006222062131489769\n",
      "10:\t0.008217965252697468 +/- 0.0006552470228609901\n",
      "11:\t0.009081847034394741 +/- 0.000687024479923207\n",
      "12:\t0.010023258626461029 +/- 0.0007168221133115603\n",
      "13:\t0.010732085444033146 +/- 0.0007384283559194921\n",
      "14:\t0.011463063769042492 +/- 0.0007577532484380256\n",
      "15:\t0.012271569110453129 +/- 0.0007821373146753065\n",
      "16:\t0.01302469801157713 +/- 0.0008055278959415263\n",
      "17:\t0.013711375184357166 +/- 0.0008261572513627383\n",
      "18:\t0.014464504085481167 +/- 0.0008450068017797186\n",
      "19:\t0.015018275007605553 +/- 0.0008586332753575808\n",
      "20:\t0.01570495031774044 +/- 0.0008794982271065271\n",
      "21:\t0.016269797459244728 +/- 0.0008919207465868889\n",
      "22:\t0.01674604043364525 +/- 0.0009010686615315743\n",
      "23:\t0.01757669635117054 +/- 0.000925644754912693\n",
      "24:\t0.018241222947835922 +/- 0.0009374098177133118\n",
      "25:\t0.01865101233124733 +/- 0.000948741109714825\n",
      "26:\t0.019016504287719727 +/- 0.000955810766903511\n",
      "27:\t0.01944844424724579 +/- 0.0009656214405979371\n",
      "28:\t0.019869310781359673 +/- 0.0009731713577502037\n",
      "29:\t0.020290175452828407 +/- 0.000983465749279948\n",
      "30:\t0.02067781426012516 +/- 0.0009941090016472372\n",
      "31:\t0.021043306216597557 +/- 0.0010005431788521137\n",
      "32:\t0.021486321464180946 +/- 0.0010106167276402052\n",
      "33:\t0.021763207390904427 +/- 0.0010162408407593114\n",
      "34:\t0.022117622196674347 +/- 0.0010231638073447216\n",
      "35:\t0.022361282259225845 +/- 0.0010250539568781854\n",
      "36:\t0.022649241611361504 +/- 0.0010301669197128537\n",
      "37:\t0.022926127538084984 +/- 0.0010328184157613826\n",
      "38:\t0.023324843496084213 +/- 0.0010453702596447372\n",
      "39:\t0.023590652272105217 +/- 0.0010504836835289707\n",
      "40:\t0.023723559454083443 +/- 0.0010519010267334892\n",
      "41:\t0.023945067077875137 +/- 0.0010555831990846586\n",
      "42:\t0.02422195114195347 +/- 0.0010629151166342565\n",
      "43:\t0.024443458765745163 +/- 0.001068281503046507\n",
      "44:\t0.02468712255358696 +/- 0.0010738237030262247\n",
      "45:\t0.024864325299859047 +/- 0.0010747167560337017\n",
      "46:\t0.02520766481757164 +/- 0.001081160692121038\n",
      "47:\t0.025351645424962044 +/- 0.0010856038267793016\n",
      "48:\t0.02545132488012314 +/- 0.001085696574583468\n",
      "49:\t0.02556207962334156 +/- 0.0010893582302289935\n",
      "50:\t0.025816813111305237 +/- 0.0010939306124486557\n",
      "51:\t0.02604939602315426 +/- 0.001096535773015898\n",
      "52:\t0.026259830221533775 +/- 0.0011031904855960508\n",
      "53:\t0.026459187269210815 +/- 0.001107988244211422\n",
      "54:\t0.026625320315361023 +/- 0.0011082089332698861\n",
      "55:\t0.0267582256346941 +/- 0.0011119435884298758\n",
      "56:\t0.026968657970428467 +/- 0.0011133819862311977\n",
      "57:\t0.02700188383460045 +/- 0.0011149431769000076\n",
      "58:\t0.02715693786740303 +/- 0.0011167206766564144\n",
      "59:\t0.027411673218011856 +/- 0.0011210273406434266\n",
      "60:\t0.027489200234413147 +/- 0.001123789719112347\n",
      "61:\t0.027577806264162064 +/- 0.0011257996646911268\n",
      "62:\t0.027655333280563354 +/- 0.0011285452916925173\n",
      "63:\t0.027732864022254944 +/- 0.0011296144656338387\n",
      "64:\t0.02771070972084999 +/- 0.0011281761446741108\n",
      "65:\t0.027887916192412376 +/- 0.0011309098612284046\n",
      "66:\t0.027998672798275948 +/- 0.0011322449070855641\n",
      "67:\t0.028098348528146744 +/- 0.0011314019547974878\n",
      "68:\t0.028175879269838333 +/- 0.0011320393558211515\n",
      "69:\t0.028198029845952988 +/- 0.001133884706705213\n",
      "70:\t0.02830878272652626 +/- 0.0011368627795289763\n",
      "71:\t0.02834201045334339 +/- 0.0011367177794407723\n",
      "72:\t0.028441689908504486 +/- 0.0011391797841180708\n",
      "73:\t0.02839738503098488 +/- 0.0011375804031769567\n",
      "74:\t0.028397388756275177 +/- 0.0011375804031769567\n",
      "75:\t0.028397388756275177 +/- 0.001139236339531382\n",
      "76:\t0.0285081397742033 +/- 0.0011405407255924663\n",
      "77:\t0.028552444651722908 +/- 0.0011433713393970122\n",
      "78:\t0.028641046956181526 +/- 0.001143252619134015\n",
      "79:\t0.028596745803952217 +/- 0.0011416624591842018\n",
      "80:\t0.028696423396468163 +/- 0.0011416300320314608\n",
      "81:\t0.0287517998367548 +/- 0.0011449540457121907\n",
      "82:\t0.02886255457997322 +/- 0.001145003147490867\n",
      "83:\t0.028807178139686584 +/- 0.0011458021463870765\n",
      "84:\t0.028884707018733025 +/- 0.0011472329368705752\n",
      "85:\t0.029006533324718475 +/- 0.0011477734406439874\n",
      "86:\t0.02906191349029541 +/- 0.0011473825474544298\n",
      "87:\t0.029017610475420952 +/- 0.0011449818623692812\n",
      "88:\t0.029084064066410065 +/- 0.0011463217492468734\n",
      "89:\t0.02910621277987957 +/- 0.001147726183063571\n",
      "90:\t0.02918374165892601 +/- 0.001148735727927814\n",
      "91:\t0.02918374165892601 +/- 0.0011479149060188594\n",
      "92:\t0.02930557169020176 +/- 0.0011513106129069526\n",
      "93:\t0.0293830968439579 +/- 0.0011523113978294597\n",
      "94:\t0.029372025281190872 +/- 0.001150589838753611\n",
      "95:\t0.02934987284243107 +/- 0.0011504207104048366\n",
      "96:\t0.029327720403671265 +/- 0.0011502513515312795\n",
      "97:\t0.029205894097685814 +/- 0.0011480857248827058\n",
      "98:\t0.02930557169020176 +/- 0.0011500819158161285\n",
      "99:\t0.029250195249915123 +/- 0.001148837081990528\n"
     ]
    }
   ],
   "source": [
    "model, precisions_at = fit_model(\n",
    "    epochs=100,\n",
    "    at=10,\n",
    "    loss=best_params[\"loss\"],\n",
    "    no_components=best_params[\"no_components\"], \n",
    "    learning_rate=best_params[\"learning_rate\"], \n",
    "    max_sampled=best_params[\"max_sampled\"],\n",
    "    user_alpha=best_params[\"user_alpha\"],\n",
    "    item_alpha=best_params[\"item_alpha\"],\n",
    "    verbose=True,\n",
    ")"
   ]
  },
  {
   "cell_type": "code",
   "execution_count": 11,
   "metadata": {
    "tags": []
   },
   "outputs": [
    {
     "data": {
      "image/png": "[encoded data removed]",
      "text/plain": [
       "<Figure size 640x480 with 1 Axes>"
      ]
     },
     "metadata": {},
     "output_type": "display_data"
    }
   ],
   "source": [
    "figure, ax = pl.subplots()\n",
    "\n",
    "ax.plot(np.arange(len(precisions_at)), precisions_at)\n",
    "\n",
    "pass"
   ]
  },
  {
   "cell_type": "markdown",
   "metadata": {},
   "source": [
    "### Готовим данные для сабмита"
   ]
  },
  {
   "cell_type": "code",
   "execution_count": 12,
   "metadata": {
    "tags": []
   },
   "outputs": [
    {
     "data": {
      "text/html": [
       "<div>\n",
       "<style scoped>\n",
       "    .dataframe tbody tr th:only-of-type {\n",
       "        vertical-align: middle;\n",
       "    }\n",
       "\n",
       "    .dataframe tbody tr th {\n",
       "        vertical-align: top;\n",
       "    }\n",
       "\n",
       "    .dataframe thead th {\n",
       "        text-align: right;\n",
       "    }\n",
       "</style>\n",
       "<table border=\"1\" class=\"dataframe\">\n",
       "  <thead>\n",
       "    <tr style=\"text-align: right;\">\n",
       "      <th></th>\n",
       "      <th>user</th>\n",
       "      <th>track</th>\n",
       "    </tr>\n",
       "  </thead>\n",
       "  <tbody>\n",
       "    <tr>\n",
       "      <th>0</th>\n",
       "      <td>4b90453a4a89fdd400cbeb7339c8fe8c</td>\n",
       "      <td>2262</td>\n",
       "    </tr>\n",
       "    <tr>\n",
       "      <th>1</th>\n",
       "      <td>4b90453a4a89fdd400cbeb7339c8fe8c</td>\n",
       "      <td>3864</td>\n",
       "    </tr>\n",
       "    <tr>\n",
       "      <th>2</th>\n",
       "      <td>4b90453a4a89fdd400cbeb7339c8fe8c</td>\n",
       "      <td>4467</td>\n",
       "    </tr>\n",
       "    <tr>\n",
       "      <th>3</th>\n",
       "      <td>4b90453a4a89fdd400cbeb7339c8fe8c</td>\n",
       "      <td>9616</td>\n",
       "    </tr>\n",
       "    <tr>\n",
       "      <th>4</th>\n",
       "      <td>4b90453a4a89fdd400cbeb7339c8fe8c</td>\n",
       "      <td>10675</td>\n",
       "    </tr>\n",
       "  </tbody>\n",
       "</table>\n",
       "</div>"
      ],
      "text/plain": [
       "                               user  track\n",
       "0  4b90453a4a89fdd400cbeb7339c8fe8c   2262\n",
       "1  4b90453a4a89fdd400cbeb7339c8fe8c   3864\n",
       "2  4b90453a4a89fdd400cbeb7339c8fe8c   4467\n",
       "3  4b90453a4a89fdd400cbeb7339c8fe8c   9616\n",
       "4  4b90453a4a89fdd400cbeb7339c8fe8c  10675"
      ]
     },
     "execution_count": 12,
     "metadata": {},
     "output_type": "execute_result"
    }
   ],
   "source": [
    "submit_data = pd.read_csv(\"/Users/n.anokhin/Documents/data/recsys-course/fall24-hw1/test.csv\")\n",
    "submit_data.head()"
   ]
  },
  {
   "cell_type": "code",
   "execution_count": 13,
   "metadata": {
    "tags": []
   },
   "outputs": [],
   "source": [
    "filtered_submit_data = submit_data[submit_data[\"user\"].isin(users) & submit_data[\"track\"].isin(tracks)].drop_duplicates().copy()"
   ]
  },
  {
   "cell_type": "code",
   "execution_count": 14,
   "metadata": {
    "tags": []
   },
   "outputs": [],
   "source": [
    "filtered_submit_data[\"score\"] = model.predict(\n",
    "    filtered_submit_data[\"user\"].map(dataset.mapping()[0]).values,\n",
    "    filtered_submit_data[\"track\"].map(dataset.mapping()[2]).values,\n",
    ")"
   ]
  },
  {
   "cell_type": "code",
   "execution_count": 15,
   "metadata": {
    "tags": []
   },
   "outputs": [
    {
     "data": {
      "text/plain": [
       "<Axes: xlabel='score', ylabel='Count'>"
      ]
     },
     "execution_count": 15,
     "metadata": {},
     "output_type": "execute_result"
    },
    {
     "data": {
      "image/png": "[encoded data removed]",
      "text/plain": [
       "<Figure size 640x480 with 1 Axes>"
      ]
     },
     "metadata": {},
     "output_type": "display_data"
    }
   ],
   "source": [
    "sns.histplot(filtered_submit_data[\"score\"])"
   ]
  },
  {
   "cell_type": "code",
   "execution_count": 16,
   "metadata": {
    "tags": []
   },
   "outputs": [
    {
     "data": {
      "text/html": [
       "<div>\n",
       "<style scoped>\n",
       "    .dataframe tbody tr th:only-of-type {\n",
       "        vertical-align: middle;\n",
       "    }\n",
       "\n",
       "    .dataframe tbody tr th {\n",
       "        vertical-align: top;\n",
       "    }\n",
       "\n",
       "    .dataframe thead th {\n",
       "        text-align: right;\n",
       "    }\n",
       "</style>\n",
       "<table border=\"1\" class=\"dataframe\">\n",
       "  <thead>\n",
       "    <tr style=\"text-align: right;\">\n",
       "      <th></th>\n",
       "      <th>user</th>\n",
       "      <th>track</th>\n",
       "      <th>score</th>\n",
       "    </tr>\n",
       "  </thead>\n",
       "  <tbody>\n",
       "    <tr>\n",
       "      <th>0</th>\n",
       "      <td>4b90453a4a89fdd400cbeb7339c8fe8c</td>\n",
       "      <td>2262</td>\n",
       "      <td>0.004059</td>\n",
       "    </tr>\n",
       "    <tr>\n",
       "      <th>1</th>\n",
       "      <td>4b90453a4a89fdd400cbeb7339c8fe8c</td>\n",
       "      <td>3864</td>\n",
       "      <td>0.797431</td>\n",
       "    </tr>\n",
       "    <tr>\n",
       "      <th>2</th>\n",
       "      <td>4b90453a4a89fdd400cbeb7339c8fe8c</td>\n",
       "      <td>4467</td>\n",
       "      <td>0.365550</td>\n",
       "    </tr>\n",
       "    <tr>\n",
       "      <th>3</th>\n",
       "      <td>4b90453a4a89fdd400cbeb7339c8fe8c</td>\n",
       "      <td>9616</td>\n",
       "      <td>0.464351</td>\n",
       "    </tr>\n",
       "    <tr>\n",
       "      <th>4</th>\n",
       "      <td>4b90453a4a89fdd400cbeb7339c8fe8c</td>\n",
       "      <td>10675</td>\n",
       "      <td>0.495866</td>\n",
       "    </tr>\n",
       "  </tbody>\n",
       "</table>\n",
       "</div>"
      ],
      "text/plain": [
       "                               user  track     score\n",
       "0  4b90453a4a89fdd400cbeb7339c8fe8c   2262  0.004059\n",
       "1  4b90453a4a89fdd400cbeb7339c8fe8c   3864  0.797431\n",
       "2  4b90453a4a89fdd400cbeb7339c8fe8c   4467  0.365550\n",
       "3  4b90453a4a89fdd400cbeb7339c8fe8c   9616  0.464351\n",
       "4  4b90453a4a89fdd400cbeb7339c8fe8c  10675  0.495866"
      ]
     },
     "execution_count": 16,
     "metadata": {},
     "output_type": "execute_result"
    }
   ],
   "source": [
    "scored_submit_data = pd.merge(\n",
    "    submit_data,\n",
    "    filtered_submit_data,\n",
    "    left_on=[\"user\", \"track\"],\n",
    "    right_on=[\"user\", \"track\"],\n",
    "    how=\"left\"\n",
    ")\n",
    "\n",
    "# Fill missing scores with small random numbers\n",
    "scored_submit_data[\"score\"] = scored_submit_data[\"score\"].map(lambda s : np.random.random() * 0.01 if pd.isna(s) else np.exp(s))\n",
    "# scored_submit_data[\"score\"] = scored_submit_data[\"score\"].map(lambda s : np.random.random())\n",
    "# scored_submit_data[\"score\"] = scored_submit_data[\"score\"].map(lambda s : 0.0)\n",
    "\n",
    "scored_submit_data.head()"
   ]
  },
  {
   "cell_type": "code",
   "execution_count": 17,
   "metadata": {
    "tags": []
   },
   "outputs": [],
   "source": [
    "scored_submit_data.to_csv(\"/Users/n.anokhin/Desktop/submit.csv\", index=False)"
   ]
  },
  {
   "cell_type": "code",
   "execution_count": 18,
   "metadata": {
    "tags": []
   },
   "outputs": [
    {
     "name": "stdout",
     "output_type": "stream",
     "text": [
      "user,track,score\n",
      "4b90453a4a89fdd400cbeb7339c8fe8c,2262,0.004058763161331291\n",
      "4b90453a4a89fdd400cbeb7339c8fe8c,3864,0.7974308970635563\n",
      "4b90453a4a89fdd400cbeb7339c8fe8c,4467,0.36555035740357333\n",
      "4b90453a4a89fdd400cbeb7339c8fe8c,9616,0.4643510126031974\n",
      "4b90453a4a89fdd400cbeb7339c8fe8c,10675,0.4958656634839094\n",
      "4b90453a4a89fdd400cbeb7339c8fe8c,12666,0.39339812006596697\n",
      "4b90453a4a89fdd400cbeb7339c8fe8c,13335,0.8681598295978546\n",
      "4b90453a4a89fdd400cbeb7339c8fe8c,15874,0.8518890587875364\n",
      "4b90453a4a89fdd400cbeb7339c8fe8c,16294,0.8132308268017887\n"
     ]
    }
   ],
   "source": [
    "%%sh \n",
    "head /Users/n.anokhin/Desktop/submit.csv"
   ]
  },
  {
   "cell_type": "code",
   "execution_count": null,
   "metadata": {},
   "outputs": [],
   "source": []
  }
 ],
 "metadata": {
  "kernelspec": {
   "display_name": "Python 3 (ipykernel)",
   "language": "python",
   "name": "python3"
  },
  "language_info": {
   "codemirror_mode": {
    "name": "ipython",
    "version": 3
   },
   "file_extension": ".py",
   "mimetype": "text/x-python",
   "name": "python",
   "nbconvert_exporter": "python",
   "pygments_lexer": "ipython3",
   "version": "3.8.0"
  }
 },
 "nbformat": 4,
 "nbformat_minor": 4
}
