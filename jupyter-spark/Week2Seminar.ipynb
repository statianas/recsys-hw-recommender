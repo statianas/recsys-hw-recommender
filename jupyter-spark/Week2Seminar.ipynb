{
 "cells": [
  {
   "cell_type": "code",
   "execution_count": 1,
   "metadata": {
    "collapsed": true,
    "jupyter": {
     "outputs_hidden": true
    }
   },
   "outputs": [],
   "source": [
    "import json\n",
    "import random\n",
    "from collections import namedtuple\n",
    "\n",
    "import pandas as pd\n",
    "import numpy as np\n",
    "import scipy.stats as ss\n",
    "\n",
    "from pyspark.sql import SparkSession, Row\n",
    "import pyspark.sql.functions as spf\n",
    "from pyspark.sql.types import *\n",
    "\n",
    "import matplotlib.pyplot as plt\n",
    "\n",
    "%matplotlib inline"
   ]
  },
  {
   "cell_type": "code",
   "execution_count": 2,
   "metadata": {
    "collapsed": true,
    "jupyter": {
     "outputs_hidden": true
    }
   },
   "outputs": [],
   "source": [
    "spark = SparkSession.builder.appName(\"anokhin\").getOrCreate()"
   ]
  },
  {
   "cell_type": "code",
   "execution_count": 3,
   "metadata": {},
   "outputs": [
    {
     "name": "stdout",
     "output_type": "stream",
     "text": [
      "root\n",
      " |-- experiments: struct (nullable = true)\n",
      " |    |-- STICKY_ARTIST: string (nullable = true)\n",
      " |-- latency: double (nullable = true)\n",
      " |-- message: string (nullable = true)\n",
      " |-- recommendation: long (nullable = true)\n",
      " |-- time: double (nullable = true)\n",
      " |-- timestamp: long (nullable = true)\n",
      " |-- track: long (nullable = true)\n",
      " |-- user: long (nullable = true)\n",
      " |-- rnd: double (nullable = false)\n",
      "\n"
     ]
    }
   ],
   "source": [
    "data = spark.read.json(\"/user/anokhin/seminar-2/*/data.json\").withColumn(\"rnd\", spf.rand())\n",
    "\n",
    "data.printSchema()"
   ]
  },
  {
   "cell_type": "code",
   "execution_count": 4,
   "metadata": {},
   "outputs": [
    {
     "data": {
      "text/plain": [
       "384709"
      ]
     },
     "execution_count": 4,
     "metadata": {},
     "output_type": "execute_result"
    }
   ],
   "source": [
    "data.count()"
   ]
  },
  {
   "cell_type": "code",
   "execution_count": 7,
   "metadata": {},
   "outputs": [
    {
     "name": "stdout",
     "output_type": "stream",
     "text": [
      "+-----------+---------------------+-------+--------------+----+-------------+-----+----+-------------------+\n",
      "|experiments|latency              |message|recommendation|time|timestamp    |track|user|rnd                |\n",
      "+-----------+---------------------+-------+--------------+----+-------------+-----+----+-------------------+\n",
      "|[T1]       |0.01097559928894043  |next   |47055         |1.0 |1727289551284|47055|4298|0.28281619238416467|\n",
      "|[C]        |0.0016002655029296875|next   |48100         |0.64|1727289551292|45208|4670|0.12017669958406985|\n",
      "|[C]        |0.0013813972473144531|next   |39136         |0.0 |1727289551310|39136|786 |0.8604588701827581 |\n",
      "+-----------+---------------------+-------+--------------+----+-------------+-----+----+-------------------+\n",
      "only showing top 3 rows\n",
      "\n"
     ]
    }
   ],
   "source": [
    "data.show(3, False)"
   ]
  },
  {
   "cell_type": "code",
   "execution_count": 6,
   "metadata": {},
   "outputs": [
    {
     "data": {
      "text/html": [
       "<div>\n",
       "<style scoped>\n",
       "    .dataframe tbody tr th:only-of-type {\n",
       "        vertical-align: middle;\n",
       "    }\n",
       "\n",
       "    .dataframe tbody tr th {\n",
       "        vertical-align: top;\n",
       "    }\n",
       "\n",
       "    .dataframe thead th {\n",
       "        text-align: right;\n",
       "    }\n",
       "</style>\n",
       "<table border=\"1\" class=\"dataframe\">\n",
       "  <thead>\n",
       "    <tr style=\"text-align: right;\">\n",
       "      <th></th>\n",
       "      <th>album</th>\n",
       "      <th>artist</th>\n",
       "      <th>duration</th>\n",
       "      <th>genre</th>\n",
       "      <th>pop</th>\n",
       "      <th>title</th>\n",
       "      <th>track</th>\n",
       "    </tr>\n",
       "  </thead>\n",
       "  <tbody>\n",
       "    <tr>\n",
       "      <th>20424</th>\n",
       "      <td>Дарите женщинам цветы</td>\n",
       "      <td>Jazzdauren</td>\n",
       "      <td>178</td>\n",
       "      <td>[1]</td>\n",
       "      <td>5.139291</td>\n",
       "      <td>Дарите женщинам цветы</td>\n",
       "      <td>3826</td>\n",
       "    </tr>\n",
       "    <tr>\n",
       "      <th>3904</th>\n",
       "      <td>Матушка</td>\n",
       "      <td>Татьяна Куртукова</td>\n",
       "      <td>173</td>\n",
       "      <td>[1]</td>\n",
       "      <td>4.617107</td>\n",
       "      <td>Матушка</td>\n",
       "      <td>12151</td>\n",
       "    </tr>\n",
       "    <tr>\n",
       "      <th>49975</th>\n",
       "      <td>Чёрная смородина</td>\n",
       "      <td>SEVENROSE</td>\n",
       "      <td>232</td>\n",
       "      <td>[1]</td>\n",
       "      <td>4.404717</td>\n",
       "      <td>Чёрная смородина</td>\n",
       "      <td>16149</td>\n",
       "    </tr>\n",
       "  </tbody>\n",
       "</table>\n",
       "</div>"
      ],
      "text/plain": [
       "                       album             artist  duration genre       pop  \\\n",
       "20424  Дарите женщинам цветы         Jazzdauren       178   [1]  5.139291   \n",
       "3904                 Матушка  Татьяна Куртукова       173   [1]  4.617107   \n",
       "49975       Чёрная смородина          SEVENROSE       232   [1]  4.404717   \n",
       "\n",
       "                       title  track  \n",
       "20424  Дарите женщинам цветы   3826  \n",
       "3904                 Матушка  12151  \n",
       "49975       Чёрная смородина  16149  "
      ]
     },
     "execution_count": 6,
     "metadata": {},
     "output_type": "execute_result"
    }
   ],
   "source": [
    "tracks = spark.read.json(\"/user/anokhin/tracks.json\").toPandas()\n",
    "\n",
    "tracks.sort_values(\"pop\", ascending=False).head(3)"
   ]
  },
  {
   "cell_type": "markdown",
   "metadata": {},
   "source": [
    "## Compute track popularity"
   ]
  },
  {
   "cell_type": "code",
   "execution_count": 7,
   "metadata": {
    "collapsed": true,
    "jupyter": {
     "outputs_hidden": true
    }
   },
   "outputs": [],
   "source": [
    "track_popularity = (\n",
    "    data\n",
    "        .filter(spf.col(\"rnd\") > 0.5)\n",
    "        .groupBy(\n",
    "            spf.col(\"track\")\n",
    "        )\n",
    "        .agg(\n",
    "            spf.sum(spf.col(\"time\")).alias(\"popularity\")\n",
    "        )\n",
    "        .toPandas()\n",
    "        .sort_values(\"popularity\", ascending=False)\n",
    "        .reset_index(drop=True)\n",
    ")"
   ]
  },
  {
   "cell_type": "code",
   "execution_count": 9,
   "metadata": {},
   "outputs": [
    {
     "data": {
      "image/png": "[encoded data removed]",
      "text/plain": [
       "<matplotlib.figure.Figure at 0x7f155c3030b8>"
      ]
     },
     "metadata": {},
     "output_type": "display_data"
    }
   ],
   "source": [
    "fig, ax = plt.subplots(figsize=(20, 5))\n",
    "\n",
    "ax.plot(track_popularity.index.values, track_popularity[\"popularity\"].values)\n",
    "\n",
    "ax.set_xscale(\"log\")\n",
    "ax.set_yscale(\"log\")"
   ]
  },
  {
   "cell_type": "code",
   "execution_count": 10,
   "metadata": {},
   "outputs": [
    {
     "data": {
      "text/html": [
       "<div>\n",
       "<style scoped>\n",
       "    .dataframe tbody tr th:only-of-type {\n",
       "        vertical-align: middle;\n",
       "    }\n",
       "\n",
       "    .dataframe tbody tr th {\n",
       "        vertical-align: top;\n",
       "    }\n",
       "\n",
       "    .dataframe thead th {\n",
       "        text-align: right;\n",
       "    }\n",
       "</style>\n",
       "<table border=\"1\" class=\"dataframe\">\n",
       "  <thead>\n",
       "    <tr style=\"text-align: right;\">\n",
       "      <th></th>\n",
       "      <th>track</th>\n",
       "      <th>popularity</th>\n",
       "      <th>album</th>\n",
       "      <th>artist</th>\n",
       "      <th>duration</th>\n",
       "      <th>genre</th>\n",
       "      <th>pop</th>\n",
       "      <th>title</th>\n",
       "    </tr>\n",
       "  </thead>\n",
       "  <tbody>\n",
       "    <tr>\n",
       "      <th>0</th>\n",
       "      <td>28549</td>\n",
       "      <td>20.95</td>\n",
       "      <td>Ялгыз Торна</td>\n",
       "      <td>Фирдус Тямаев</td>\n",
       "      <td>243</td>\n",
       "      <td>[1]</td>\n",
       "      <td>0.128325</td>\n",
       "      <td>Ялгыз Торна</td>\n",
       "    </tr>\n",
       "    <tr>\n",
       "      <th>1</th>\n",
       "      <td>18295</td>\n",
       "      <td>17.19</td>\n",
       "      <td>Menda qolmadi dil</td>\n",
       "      <td>Jaloliddin Ahmadaliyev</td>\n",
       "      <td>308</td>\n",
       "      <td>[81, 1]</td>\n",
       "      <td>-0.277881</td>\n",
       "      <td>Menda qolmadi dil</td>\n",
       "    </tr>\n",
       "    <tr>\n",
       "      <th>2</th>\n",
       "      <td>32649</td>\n",
       "      <td>16.75</td>\n",
       "      <td>BTS, THE BEST</td>\n",
       "      <td>BTS</td>\n",
       "      <td>223</td>\n",
       "      <td>[152, 10]</td>\n",
       "      <td>-0.018736</td>\n",
       "      <td>IDOL (Japanese ver.)</td>\n",
       "    </tr>\n",
       "    <tr>\n",
       "      <th>3</th>\n",
       "      <td>8957</td>\n",
       "      <td>15.42</td>\n",
       "      <td>Seven Mix</td>\n",
       "      <td>DJ Seven</td>\n",
       "      <td>86</td>\n",
       "      <td>[6]</td>\n",
       "      <td>-1.259838</td>\n",
       "      <td>Walking Chance</td>\n",
       "    </tr>\n",
       "    <tr>\n",
       "      <th>4</th>\n",
       "      <td>40708</td>\n",
       "      <td>15.40</td>\n",
       "      <td>Бэхет сере</td>\n",
       "      <td>Анвар Нургалиев</td>\n",
       "      <td>212</td>\n",
       "      <td>[1]</td>\n",
       "      <td>0.046881</td>\n",
       "      <td>Сон дисенме микэн</td>\n",
       "    </tr>\n",
       "    <tr>\n",
       "      <th>5</th>\n",
       "      <td>44708</td>\n",
       "      <td>14.51</td>\n",
       "      <td>Skool Luv Affair (Special Addition)</td>\n",
       "      <td>BTS</td>\n",
       "      <td>236</td>\n",
       "      <td>[152]</td>\n",
       "      <td>-0.287483</td>\n",
       "      <td>Jump</td>\n",
       "    </tr>\n",
       "    <tr>\n",
       "      <th>6</th>\n",
       "      <td>32301</td>\n",
       "      <td>14.03</td>\n",
       "      <td>Sorry</td>\n",
       "      <td>Miyagi</td>\n",
       "      <td>194</td>\n",
       "      <td>[10]</td>\n",
       "      <td>0.129749</td>\n",
       "      <td>Sorry</td>\n",
       "    </tr>\n",
       "    <tr>\n",
       "      <th>7</th>\n",
       "      <td>13085</td>\n",
       "      <td>13.80</td>\n",
       "      <td>Impossible</td>\n",
       "      <td>RILTIM</td>\n",
       "      <td>213</td>\n",
       "      <td>[53, 6, 36]</td>\n",
       "      <td>-0.214414</td>\n",
       "      <td>Someday</td>\n",
       "    </tr>\n",
       "    <tr>\n",
       "      <th>8</th>\n",
       "      <td>8808</td>\n",
       "      <td>13.78</td>\n",
       "      <td>Tox Tani Tani</td>\n",
       "      <td>Ernest Ogannesyan</td>\n",
       "      <td>159</td>\n",
       "      <td>[1]</td>\n",
       "      <td>-0.703874</td>\n",
       "      <td>Tox Tani Tani</td>\n",
       "    </tr>\n",
       "    <tr>\n",
       "      <th>9</th>\n",
       "      <td>32776</td>\n",
       "      <td>13.65</td>\n",
       "      <td>Falling In Love</td>\n",
       "      <td>Dani Corbalan</td>\n",
       "      <td>227</td>\n",
       "      <td>[36]</td>\n",
       "      <td>-0.747872</td>\n",
       "      <td>Falling In Love (Radio Edit)</td>\n",
       "    </tr>\n",
       "  </tbody>\n",
       "</table>\n",
       "</div>"
      ],
      "text/plain": [
       "   track  popularity                                album  \\\n",
       "0  28549       20.95                          Ялгыз Торна   \n",
       "1  18295       17.19                    Menda qolmadi dil   \n",
       "2  32649       16.75                        BTS, THE BEST   \n",
       "3   8957       15.42                            Seven Mix   \n",
       "4  40708       15.40                           Бэхет сере   \n",
       "5  44708       14.51  Skool Luv Affair (Special Addition)   \n",
       "6  32301       14.03                                Sorry   \n",
       "7  13085       13.80                           Impossible   \n",
       "8   8808       13.78                        Tox Tani Tani   \n",
       "9  32776       13.65                      Falling In Love   \n",
       "\n",
       "                   artist  duration        genre       pop  \\\n",
       "0           Фирдус Тямаев       243          [1]  0.128325   \n",
       "1  Jaloliddin Ahmadaliyev       308      [81, 1] -0.277881   \n",
       "2                     BTS       223    [152, 10] -0.018736   \n",
       "3                DJ Seven        86          [6] -1.259838   \n",
       "4         Анвар Нургалиев       212          [1]  0.046881   \n",
       "5                     BTS       236        [152] -0.287483   \n",
       "6                  Miyagi       194         [10]  0.129749   \n",
       "7                  RILTIM       213  [53, 6, 36] -0.214414   \n",
       "8       Ernest Ogannesyan       159          [1] -0.703874   \n",
       "9           Dani Corbalan       227         [36] -0.747872   \n",
       "\n",
       "                          title  \n",
       "0                   Ялгыз Торна  \n",
       "1             Menda qolmadi dil  \n",
       "2          IDOL (Japanese ver.)  \n",
       "3                Walking Chance  \n",
       "4             Сон дисенме микэн  \n",
       "5                          Jump  \n",
       "6                         Sorry  \n",
       "7                       Someday  \n",
       "8                 Tox Tani Tani  \n",
       "9  Falling In Love (Radio Edit)  "
      ]
     },
     "execution_count": 10,
     "metadata": {},
     "output_type": "execute_result"
    }
   ],
   "source": [
    "(\n",
    "    pd.merge(track_popularity, tracks, on=\"track\")\n",
    "#         .sort_values(\"pop\", ascending=False)\n",
    "        .head(10)\n",
    ")"
   ]
  },
  {
   "cell_type": "markdown",
   "metadata": {},
   "source": [
    "## Compute offline metrics"
   ]
  },
  {
   "cell_type": "code",
   "execution_count": 14,
   "metadata": {
    "collapsed": true,
    "jupyter": {
     "outputs_hidden": true
    }
   },
   "outputs": [],
   "source": [
    "def precision_at(recommendations, track, k):\n",
    "    return 1.0 / k * int(track in recommendations[:k])\n",
    "\n",
    "\n",
    "    \n",
    "def shuffled_precision_at(recommendations, track, k):\n",
    "    shuffled = list(recommendations)\n",
    "    random.shuffle(shuffled)\n",
    "    return precision_at(shuffled, track, k)"
   ]
  },
  {
   "cell_type": "code",
   "execution_count": 15,
   "metadata": {
    "collapsed": true,
    "jupyter": {
     "outputs_hidden": true
    }
   },
   "outputs": [],
   "source": [
    "tracks = track_popularity[\"track\"].tolist()\n",
    "\n",
    "t_p_10_udf = spf.udf(lambda track: precision_at(tracks, track, 10))\n",
    "st_10_p_10_udf = spf.udf(lambda track: shuffled_precision_at(tracks[:10], track, 10))\n",
    "st_100_p_10_udf = spf.udf(lambda track: shuffled_precision_at(tracks[:100], track, 10))\n",
    "st_1000_p_10_udf = spf.udf(lambda track: shuffled_precision_at(tracks[:1000], track, 10))\n",
    "\n",
    "\n",
    "metrics = (\n",
    "    data\n",
    "        .filter(spf.col(\"rnd\") <= 0.5)\n",
    "        .filter(spf.col(\"time\") >= 0.8)\n",
    "        .select(\n",
    "            t_p_10_udf(spf.col(\"track\")).alias(\"t_p_10_udf\"),\n",
    "            st_10_p_10_udf(spf.col(\"track\")).alias(\"st_10_p_10_udf\"),\n",
    "            st_100_p_10_udf(spf.col(\"track\")).alias(\"st_100_p_10_udf\"),\n",
    "            st_1000_p_10_udf(spf.col(\"track\")).alias(\"st_1000_p_10_udf\")\n",
    "        )\n",
    ")"
   ]
  },
  {
   "cell_type": "code",
   "execution_count": 16,
   "metadata": {},
   "outputs": [
    {
     "data": {
      "text/html": [
       "<div>\n",
       "<style scoped>\n",
       "    .dataframe tbody tr th:only-of-type {\n",
       "        vertical-align: middle;\n",
       "    }\n",
       "\n",
       "    .dataframe tbody tr th {\n",
       "        vertical-align: top;\n",
       "    }\n",
       "\n",
       "    .dataframe thead th {\n",
       "        text-align: right;\n",
       "    }\n",
       "</style>\n",
       "<table border=\"1\" class=\"dataframe\">\n",
       "  <thead>\n",
       "    <tr style=\"text-align: right;\">\n",
       "      <th></th>\n",
       "      <th>summary</th>\n",
       "      <th>t_p_10_udf</th>\n",
       "      <th>st_10_p_10_udf</th>\n",
       "      <th>st_100_p_10_udf</th>\n",
       "      <th>st_1000_p_10_udf</th>\n",
       "    </tr>\n",
       "  </thead>\n",
       "  <tbody>\n",
       "    <tr>\n",
       "      <th>0</th>\n",
       "      <td>count</td>\n",
       "      <td>37094</td>\n",
       "      <td>37094</td>\n",
       "      <td>37094</td>\n",
       "      <td>37094</td>\n",
       "    </tr>\n",
       "    <tr>\n",
       "      <th>1</th>\n",
       "      <td>mean</td>\n",
       "      <td>2.722812314660052E-4</td>\n",
       "      <td>2.722812314660052E-4</td>\n",
       "      <td>1.5635951905968628E-4</td>\n",
       "      <td>7.278805197606083E-5</td>\n",
       "    </tr>\n",
       "    <tr>\n",
       "      <th>2</th>\n",
       "      <td>stddev</td>\n",
       "      <td>0.005211018914673617</td>\n",
       "      <td>0.005211018914673617</td>\n",
       "      <td>0.003951192792236779</td>\n",
       "      <td>0.002696980382853694</td>\n",
       "    </tr>\n",
       "    <tr>\n",
       "      <th>3</th>\n",
       "      <td>min</td>\n",
       "      <td>0.0</td>\n",
       "      <td>0.0</td>\n",
       "      <td>0.0</td>\n",
       "      <td>0.0</td>\n",
       "    </tr>\n",
       "    <tr>\n",
       "      <th>4</th>\n",
       "      <td>max</td>\n",
       "      <td>0.1</td>\n",
       "      <td>0.1</td>\n",
       "      <td>0.1</td>\n",
       "      <td>0.1</td>\n",
       "    </tr>\n",
       "  </tbody>\n",
       "</table>\n",
       "</div>"
      ],
      "text/plain": [
       "  summary            t_p_10_udf        st_10_p_10_udf        st_100_p_10_udf  \\\n",
       "0   count                 37094                 37094                  37094   \n",
       "1    mean  2.722812314660052E-4  2.722812314660052E-4  1.5635951905968628E-4   \n",
       "2  stddev  0.005211018914673617  0.005211018914673617   0.003951192792236779   \n",
       "3     min                   0.0                   0.0                    0.0   \n",
       "4     max                   0.1                   0.1                    0.1   \n",
       "\n",
       "       st_1000_p_10_udf  \n",
       "0                 37094  \n",
       "1  7.278805197606083E-5  \n",
       "2  0.002696980382853694  \n",
       "3                   0.0  \n",
       "4                   0.1  "
      ]
     },
     "execution_count": 16,
     "metadata": {},
     "output_type": "execute_result"
    }
   ],
   "source": [
    "metrics.describe().toPandas()"
   ]
  },
  {
   "cell_type": "markdown",
   "metadata": {},
   "source": [
    "## Export data for prod"
   ]
  },
  {
   "cell_type": "code",
   "execution_count": 17,
   "metadata": {
    "collapsed": true
   },
   "outputs": [],
   "source": [
    "with open(\"/home/anokhin/top_tracks.json\", \"w\") as top_tracks_file:\n",
    "    json.dump(tracks, top_tracks_file)"
   ]
  },
  {
   "cell_type": "code",
   "execution_count": null,
   "metadata": {
    "collapsed": true
   },
   "outputs": [],
   "source": []
  }
 ],
 "metadata": {
  "kernelspec": {
   "display_name": "Python 3",
   "language": "python",
   "name": "python3"
  },
  "language_info": {
   "codemirror_mode": {
    "name": "ipython",
    "version": 3
   },
   "file_extension": ".py",
   "mimetype": "text/x-python",
   "name": "python",
   "nbconvert_exporter": "python",
   "pygments_lexer": "ipython3",
   "version": "3.4.3"
  }
 },
 "nbformat": 4,
 "nbformat_minor": 4
}
