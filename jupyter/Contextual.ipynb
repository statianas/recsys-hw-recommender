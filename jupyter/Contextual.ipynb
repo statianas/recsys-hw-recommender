{
 "cells": [
  {
   "cell_type": "code",
   "execution_count": null,
   "metadata": {
    "id": "CrjZ-Ma78a0c"
   },
   "outputs": [],
   "source": [
    "!pip install pytorch_lightning\n",
    "!pip install tensorboardX\n",
    "!pip install faiss-gpu-cu11"
   ]
  },
  {
   "cell_type": "code",
   "execution_count": 2,
   "metadata": {
    "execution": {
     "iopub.execute_input": "2025-05-04T14:14:28.781872Z",
     "iopub.status.busy": "2025-05-04T14:14:28.781485Z",
     "iopub.status.idle": "2025-05-04T14:14:43.657430Z",
     "shell.execute_reply": "2025-05-04T14:14:43.656656Z",
     "shell.execute_reply.started": "2025-05-04T14:14:28.781849Z"
    },
    "id": "1CmEukeg8Njd"
   },
   "outputs": [
    {
     "name": "stderr",
     "output_type": "stream",
     "text": [
      "2025-05-04 14:14:41.251049: E external/local_xla/xla/stream_executor/cuda/cuda_fft.cc:477] Unable to register cuFFT factory: Attempting to register factory for plugin cuFFT when one has already been registered\n",
      "WARNING: All log messages before absl::InitializeLog() is called are written to STDERR\n",
      "E0000 00:00:1746368081.275240     124 cuda_dnn.cc:8310] Unable to register cuDNN factory: Attempting to register factory for plugin cuDNN when one has already been registered\n",
      "E0000 00:00:1746368081.282517     124 cuda_blas.cc:1418] Unable to register cuBLAS factory: Attempting to register factory for plugin cuBLAS when one has already been registered\n"
     ]
    }
   ],
   "source": [
    "import os\n",
    "from collections import namedtuple\n",
    "\n",
    "import pandas as pd\n",
    "import numpy as np\n",
    "import shutil\n",
    "\n",
    "import torch\n",
    "import torch.nn as nn\n",
    "import torch.nn.functional as F\n",
    "import torch.utils.data as td\n",
    "\n",
    "import pytorch_lightning as pl\n",
    "\n",
    "import tqdm\n",
    "import json\n",
    "import sklearn.metrics as smT\n",
    "\n",
    "import tensorboardX as tb\n",
    "import tensorflow as tf\n",
    "import datetime, os\n",
    "import faiss\n",
    "\n",
    "import matplotlib.pyplot as plt\n",
    "import seaborn as sns\n",
    "\n",
    "np.random.seed(31337)"
   ]
  },
  {
   "cell_type": "markdown",
   "metadata": {
    "id": "O4cLf0zW8Njf"
   },
   "source": [
    "## Create pairs (first track, subsequent track, time)"
   ]
  },
  {
   "cell_type": "code",
   "execution_count": 3,
   "metadata": {
    "execution": {
     "iopub.execute_input": "2025-05-04T14:14:43.658783Z",
     "iopub.status.busy": "2025-05-04T14:14:43.658359Z",
     "iopub.status.idle": "2025-05-04T14:15:02.815371Z",
     "shell.execute_reply": "2025-05-04T14:15:02.814781Z",
     "shell.execute_reply.started": "2025-05-04T14:14:43.658763Z"
    },
    "id": "Y9aeehkP8Njh"
   },
   "outputs": [],
   "source": [
    "data = pd.read_json(f\"/kaggle/input/recsys-hw/positives.json\", lines=True)"
   ]
  },
  {
   "cell_type": "code",
   "execution_count": 4,
   "metadata": {
    "execution": {
     "iopub.execute_input": "2025-05-04T14:15:02.817246Z",
     "iopub.status.busy": "2025-05-04T14:15:02.817002Z",
     "iopub.status.idle": "2025-05-04T14:15:02.831716Z",
     "shell.execute_reply": "2025-05-04T14:15:02.831005Z",
     "shell.execute_reply.started": "2025-05-04T14:15:02.817226Z"
    },
    "id": "y2YIJLAwShme"
   },
   "outputs": [
    {
     "data": {
      "text/html": [
       "<div>\n",
       "<style scoped>\n",
       "    .dataframe tbody tr th:only-of-type {\n",
       "        vertical-align: middle;\n",
       "    }\n",
       "\n",
       "    .dataframe tbody tr th {\n",
       "        vertical-align: top;\n",
       "    }\n",
       "\n",
       "    .dataframe thead th {\n",
       "        text-align: right;\n",
       "    }\n",
       "</style>\n",
       "<table border=\"1\" class=\"dataframe\">\n",
       "  <thead>\n",
       "    <tr style=\"text-align: right;\">\n",
       "      <th></th>\n",
       "      <th>message</th>\n",
       "      <th>timestamp</th>\n",
       "      <th>user</th>\n",
       "      <th>track</th>\n",
       "      <th>time</th>\n",
       "      <th>latency</th>\n",
       "      <th>recommendation</th>\n",
       "      <th>experiments</th>\n",
       "    </tr>\n",
       "  </thead>\n",
       "  <tbody>\n",
       "    <tr>\n",
       "      <th>0</th>\n",
       "      <td>next</td>\n",
       "      <td>2025-04-15 18:17:54.456</td>\n",
       "      <td>6293</td>\n",
       "      <td>18320</td>\n",
       "      <td>1.0</td>\n",
       "      <td>0.005177</td>\n",
       "      <td>4519.0</td>\n",
       "      <td>{'PERSONALIZED': 'C'}</td>\n",
       "    </tr>\n",
       "    <tr>\n",
       "      <th>1</th>\n",
       "      <td>next</td>\n",
       "      <td>2025-04-15 18:17:54.461</td>\n",
       "      <td>6046</td>\n",
       "      <td>45253</td>\n",
       "      <td>1.0</td>\n",
       "      <td>0.000645</td>\n",
       "      <td>47761.0</td>\n",
       "      <td>{'PERSONALIZED': 'C'}</td>\n",
       "    </tr>\n",
       "    <tr>\n",
       "      <th>2</th>\n",
       "      <td>next</td>\n",
       "      <td>2025-04-15 18:17:54.461</td>\n",
       "      <td>619</td>\n",
       "      <td>43110</td>\n",
       "      <td>1.0</td>\n",
       "      <td>0.000363</td>\n",
       "      <td>43557.0</td>\n",
       "      <td>{'PERSONALIZED': 'C'}</td>\n",
       "    </tr>\n",
       "    <tr>\n",
       "      <th>3</th>\n",
       "      <td>next</td>\n",
       "      <td>2025-04-15 18:17:54.467</td>\n",
       "      <td>6293</td>\n",
       "      <td>4519</td>\n",
       "      <td>0.8</td>\n",
       "      <td>0.000742</td>\n",
       "      <td>15403.0</td>\n",
       "      <td>{'PERSONALIZED': 'C'}</td>\n",
       "    </tr>\n",
       "    <tr>\n",
       "      <th>4</th>\n",
       "      <td>next</td>\n",
       "      <td>2025-04-15 18:17:54.482</td>\n",
       "      <td>7760</td>\n",
       "      <td>15934</td>\n",
       "      <td>0.8</td>\n",
       "      <td>0.000507</td>\n",
       "      <td>14365.0</td>\n",
       "      <td>{'PERSONALIZED': 'C'}</td>\n",
       "    </tr>\n",
       "  </tbody>\n",
       "</table>\n",
       "</div>"
      ],
      "text/plain": [
       "  message               timestamp  user  track  time   latency  \\\n",
       "0    next 2025-04-15 18:17:54.456  6293  18320   1.0  0.005177   \n",
       "1    next 2025-04-15 18:17:54.461  6046  45253   1.0  0.000645   \n",
       "2    next 2025-04-15 18:17:54.461   619  43110   1.0  0.000363   \n",
       "3    next 2025-04-15 18:17:54.467  6293   4519   0.8  0.000742   \n",
       "4    next 2025-04-15 18:17:54.482  7760  15934   0.8  0.000507   \n",
       "\n",
       "   recommendation            experiments  \n",
       "0          4519.0  {'PERSONALIZED': 'C'}  \n",
       "1         47761.0  {'PERSONALIZED': 'C'}  \n",
       "2         43557.0  {'PERSONALIZED': 'C'}  \n",
       "3         15403.0  {'PERSONALIZED': 'C'}  \n",
       "4         14365.0  {'PERSONALIZED': 'C'}  "
      ]
     },
     "execution_count": 4,
     "metadata": {},
     "output_type": "execute_result"
    }
   ],
   "source": [
    "data.head()"
   ]
  },
  {
   "cell_type": "code",
   "execution_count": 5,
   "metadata": {
    "execution": {
     "iopub.execute_input": "2025-05-04T14:15:02.832893Z",
     "iopub.status.busy": "2025-05-04T14:15:02.832622Z",
     "iopub.status.idle": "2025-05-04T14:15:02.840257Z",
     "shell.execute_reply": "2025-05-04T14:15:02.839530Z",
     "shell.execute_reply.started": "2025-05-04T14:15:02.832861Z"
    },
    "id": "zj9JftT88Njh"
   },
   "outputs": [],
   "source": [
    "Pair = namedtuple(\"Session\", [\"user\", \"start\", \"track\", \"time\"])\n",
    "\n",
    "def get_pairs(user_data):\n",
    "    pairs = []\n",
    "    first = None\n",
    "    for _, row in user_data.sort_values(\"timestamp\").iterrows():\n",
    "        if first is None:\n",
    "            first = row[\"track\"]\n",
    "        else:\n",
    "            pairs.append(Pair(row[\"user\"], first, row[\"track\"], row[\"time\"]))\n",
    "\n",
    "        if row[\"message\"] == \"last\":\n",
    "            first = None\n",
    "    return pairs"
   ]
  },
  {
   "cell_type": "code",
   "execution_count": 6,
   "metadata": {
    "execution": {
     "iopub.execute_input": "2025-05-04T14:15:02.841245Z",
     "iopub.status.busy": "2025-05-04T14:15:02.841008Z",
     "iopub.status.idle": "2025-05-04T14:16:49.854051Z",
     "shell.execute_reply": "2025-05-04T14:16:49.853423Z",
     "shell.execute_reply.started": "2025-05-04T14:15:02.841228Z"
    },
    "id": "4c_Ifi9_8Nji"
   },
   "outputs": [
    {
     "name": "stderr",
     "output_type": "stream",
     "text": [
      "/tmp/ipykernel_124/500678007.py:4: DeprecationWarning: DataFrameGroupBy.apply operated on the grouping columns. This behavior is deprecated, and in a future version of pandas the grouping columns will be excluded from the operation. Either pass `include_groups=False` to exclude the groupings or explicitly select the grouping columns after groupby to silence this warning.\n",
      "  .apply(get_pairs)\n"
     ]
    }
   ],
   "source": [
    "pairs = pd.DataFrame(\n",
    "    data\n",
    "    .groupby(\"user\")\n",
    "    .apply(get_pairs)\n",
    "    .explode()\n",
    "    .values\n",
    "    .tolist(),\n",
    "    columns=[\"user\", \"start\", \"track\", \"time\"]\n",
    ")"
   ]
  },
  {
   "cell_type": "code",
   "execution_count": 7,
   "metadata": {
    "execution": {
     "iopub.execute_input": "2025-05-04T14:16:49.855164Z",
     "iopub.status.busy": "2025-05-04T14:16:49.854886Z",
     "iopub.status.idle": "2025-05-04T14:16:53.310285Z",
     "shell.execute_reply": "2025-05-04T14:16:53.309513Z",
     "shell.execute_reply.started": "2025-05-04T14:16:49.855139Z"
    },
    "id": "zwdhlse0nnUQ"
   },
   "outputs": [],
   "source": [
    "pairs.to_csv(f\"preprocessed_data.csv\", index=False)"
   ]
  },
  {
   "cell_type": "code",
   "execution_count": 8,
   "metadata": {
    "execution": {
     "iopub.execute_input": "2025-05-04T14:16:53.311435Z",
     "iopub.status.busy": "2025-05-04T14:16:53.311192Z",
     "iopub.status.idle": "2025-05-04T14:16:53.851563Z",
     "shell.execute_reply": "2025-05-04T14:16:53.850970Z",
     "shell.execute_reply.started": "2025-05-04T14:16:53.311409Z"
    },
    "id": "Zs0voIgnSSa4"
   },
   "outputs": [],
   "source": [
    "pairs = pd.read_csv(f\"/kaggle/working/preprocessed_data.csv\")"
   ]
  },
  {
   "cell_type": "code",
   "execution_count": 9,
   "metadata": {
    "execution": {
     "iopub.execute_input": "2025-05-04T14:16:53.852427Z",
     "iopub.status.busy": "2025-05-04T14:16:53.852246Z",
     "iopub.status.idle": "2025-05-04T14:16:55.319948Z",
     "shell.execute_reply": "2025-05-04T14:16:55.319246Z",
     "shell.execute_reply.started": "2025-05-04T14:16:53.852413Z"
    },
    "id": "eA0LzG3Z8Nji"
   },
   "outputs": [
    {
     "name": "stderr",
     "output_type": "stream",
     "text": [
      "/usr/local/lib/python3.11/dist-packages/seaborn/_oldcore.py:1119: FutureWarning: use_inf_as_na option is deprecated and will be removed in a future version. Convert inf values to NaN before operating instead.\n",
      "  with pd.option_context('mode.use_inf_as_na', True):\n"
     ]
    },
    {
     "data": {
      "image/png": "[encoded data removed]",
      "text/plain": [
       "<Figure size 640x480 with 1 Axes>"
      ]
     },
     "metadata": {},
     "output_type": "display_data"
    }
   ],
   "source": [
    "figure, ax = plt.subplots()\n",
    "sns.histplot(pairs[\"time\"], ax=ax)\n",
    "pass"
   ]
  },
  {
   "cell_type": "markdown",
   "metadata": {
    "id": "PkYDflFK8Njj"
   },
   "source": [
    "## Train Model"
   ]
  },
  {
   "cell_type": "code",
   "execution_count": 10,
   "metadata": {
    "execution": {
     "iopub.execute_input": "2025-05-04T14:16:55.322574Z",
     "iopub.status.busy": "2025-05-04T14:16:55.322339Z",
     "iopub.status.idle": "2025-05-04T14:16:55.411325Z",
     "shell.execute_reply": "2025-05-04T14:16:55.410710Z",
     "shell.execute_reply.started": "2025-05-04T14:16:55.322557Z"
    },
    "id": "cE63YQAi8Njj"
   },
   "outputs": [
    {
     "data": {
      "text/plain": [
       "(1904048, 237309, 238460)"
      ]
     },
     "execution_count": 10,
     "metadata": {},
     "output_type": "execute_result"
    }
   ],
   "source": [
    "rdm = np.random.random(len(pairs))\n",
    "train_data = pairs[rdm < 0.8]\n",
    "val_data = pairs[(rdm >= 0.8) & (rdm < 0.9)]\n",
    "test_data = pairs[rdm >= 0.9]\n",
    "\n",
    "len(train_data), len(val_data), len(test_data)"
   ]
  },
  {
   "cell_type": "code",
   "execution_count": 11,
   "metadata": {
    "execution": {
     "iopub.execute_input": "2025-05-04T14:16:55.412243Z",
     "iopub.status.busy": "2025-05-04T14:16:55.412052Z",
     "iopub.status.idle": "2025-05-04T14:16:55.421348Z",
     "shell.execute_reply": "2025-05-04T14:16:55.420741Z",
     "shell.execute_reply.started": "2025-05-04T14:16:55.412228Z"
    },
    "id": "2N72w3Ym8Njl"
   },
   "outputs": [],
   "source": [
    "class ContextualRanker(pl.LightningModule):\n",
    "    def __init__(self, embedding_dim=10):\n",
    "        super().__init__()\n",
    "        self.embedding_dim = embedding_dim\n",
    "\n",
    "        # We won't have embeddings for everything, but that's ok\n",
    "        self.context = nn.Embedding(num_embeddings=50000, embedding_dim=self.embedding_dim)\n",
    "        self.track = nn.Embedding(num_embeddings=50000, embedding_dim=self.embedding_dim)\n",
    "\n",
    "    def forward(self, x):\n",
    "        context = self.context(x[:, 0]) # start track\n",
    "        track = self.track(x[:, 1]) # next track\n",
    "        return torch.sum(context * track, dim=1)\n",
    "\n",
    "    def step(self, batch, batch_idx, metric, prog_bar=False):\n",
    "        x, y = batch\n",
    "        predictions = self.forward(x)\n",
    "        loss = F.mse_loss(predictions, y.float(), reduction='mean')\n",
    "        self.log(metric, loss, prog_bar=prog_bar)\n",
    "        return loss\n",
    "\n",
    "    def test_step(self, batch, batch_idx, prog_bar=False):\n",
    "        x, y = batch\n",
    "        predictions = self.forward(x)\n",
    "        targets = y[:, 0].float()\n",
    "        avgs = y[:, 1].float()\n",
    "        rdms = y[:, 2].float()\n",
    "\n",
    "        loss = F.mse_loss(predictions, targets, reduction='mean')\n",
    "        avg_loss = F.mse_loss(avgs, targets, reduction='mean')\n",
    "        rdm_loss = F.mse_loss(rdms, targets, reduction='mean')\n",
    "\n",
    "        self.log(\"test_loss\", loss, prog_bar=prog_bar)\n",
    "        self.log(\"avg_loss\", avg_loss, prog_bar=prog_bar)\n",
    "        self.log(\"rdm_loss\", rdm_loss, prog_bar=prog_bar)\n",
    "\n",
    "    def training_step(self, batch, batch_idx):\n",
    "        return self.step(batch, batch_idx, \"train_loss\")\n",
    "\n",
    "    def validation_step(self, batch, batch_idx):\n",
    "        return self.step(batch, batch_idx, \"val_loss\", True)\n",
    "\n",
    "    def configure_optimizers(self):\n",
    "        optimizer = torch.optim.Adam(self.parameters(), lr=1e-2, weight_decay=1e-5)\n",
    "        lr_scheduler = torch.optim.lr_scheduler.ReduceLROnPlateau(optimizer, patience=3, verbose=True)\n",
    "        scheduler = {\n",
    "            'scheduler': lr_scheduler,\n",
    "            'reduce_on_plateau': True,\n",
    "            'monitor': 'val_loss'\n",
    "        }\n",
    "        return [optimizer], [scheduler]"
   ]
  },
  {
   "cell_type": "code",
   "execution_count": 12,
   "metadata": {
    "execution": {
     "iopub.execute_input": "2025-05-04T14:16:55.422355Z",
     "iopub.status.busy": "2025-05-04T14:16:55.422121Z",
     "iopub.status.idle": "2025-05-04T14:16:55.438974Z",
     "shell.execute_reply": "2025-05-04T14:16:55.438350Z",
     "shell.execute_reply.started": "2025-05-04T14:16:55.422329Z"
    },
    "id": "XSZTEW7h9d3p"
   },
   "outputs": [],
   "source": [
    "class ContextualRankerData(pl.LightningDataModule):\n",
    "  def __init__(self, train_data, val_data, test_data, features):\n",
    "      super().__init__()\n",
    "      self.train_data = train_data\n",
    "      self.val_data = val_data\n",
    "      self.test_data = test_data\n",
    "      self.features = features\n",
    "\n",
    "  def prepare_data(self):\n",
    "      self.test_data = self.test_data.assign(rdm = np.random.random(len(self.test_data))).assign(avg = self.train_data[\"time\"].mean())\n",
    "\n",
    "  def setup(self, stage=None):\n",
    "      if stage == \"fit\" or stage is None:\n",
    "        self.train_dataset = td.TensorDataset(\n",
    "            torch.from_numpy(self.train_data[self.features].values),\n",
    "            torch.from_numpy(self.train_data[\"time\"].values)\n",
    "            )\n",
    "\n",
    "        self.val_dataset = td.TensorDataset(\n",
    "            torch.from_numpy(self.val_data[self.features].values),\n",
    "            torch.from_numpy(self.val_data[\"time\"].values)\n",
    "            )\n",
    "\n",
    "      if stage == \"test\" or stage is None:\n",
    "        self.test_dataset = td.TensorDataset(\n",
    "            torch.from_numpy(self.test_data[self.features].values),\n",
    "            torch.from_numpy(self.test_data[[\"time\", \"avg\", \"rdm\"]].values)\n",
    "        )\n",
    "  def train_dataloader(self):\n",
    "      return td.DataLoader(self.train_dataset, batch_size=4096, shuffle=True, num_workers=0)\n",
    "\n",
    "  def val_dataloader(self):\n",
    "      return td.DataLoader(self.val_dataset, batch_size=4096, num_workers=0)\n",
    "\n",
    "  def test_dataloader(self):\n",
    "      return td.DataLoader(self.test_dataset, batch_size=4096, shuffle=False, num_workers=0)"
   ]
  },
  {
   "cell_type": "code",
   "execution_count": 13,
   "metadata": {
    "execution": {
     "iopub.execute_input": "2025-05-04T14:16:55.439820Z",
     "iopub.status.busy": "2025-05-04T14:16:55.439609Z",
     "iopub.status.idle": "2025-05-04T14:16:55.903701Z",
     "shell.execute_reply": "2025-05-04T14:16:55.902914Z",
     "shell.execute_reply.started": "2025-05-04T14:16:55.439805Z"
    },
    "id": "JWZ8cqTZ8Njm"
   },
   "outputs": [],
   "source": [
    "net = ContextualRanker(embedding_dim=400)\n",
    "data_module = ContextualRankerData(train_data, val_data, test_data, features = [\"start\", \"track\"])\n",
    "\n",
    "checkpoint_callback = pl.callbacks.ModelCheckpoint(monitor=\"val_loss\")\n",
    "\n",
    "trainer = pl.Trainer(\n",
    "    max_epochs=400,\n",
    "    accelerator='cuda',\n",
    "    devices=1,\n",
    "    callbacks=[\n",
    "        pl.callbacks.early_stopping.EarlyStopping(monitor=\"val_loss\", patience=5),\n",
    "        pl.callbacks.LearningRateMonitor(logging_interval=\"step\"),\n",
    "        checkpoint_callback\n",
    "    ], enable_progress_bar=True)"
   ]
  },
  {
   "cell_type": "code",
   "execution_count": null,
   "metadata": {
    "id": "Sqy8qDr98Njm"
   },
   "outputs": [],
   "source": [
    "trainer.fit(\n",
    "    net,\n",
    "    data_module\n",
    ")"
   ]
  },
  {
   "cell_type": "code",
   "execution_count": null,
   "metadata": {
    "execution": {
     "iopub.status.busy": "2025-05-04T14:17:02.001269Z",
     "iopub.status.idle": "2025-05-04T14:17:02.001505Z",
     "shell.execute_reply": "2025-05-04T14:17:02.001391Z",
     "shell.execute_reply.started": "2025-05-04T14:17:02.001382Z"
    },
    "id": "l9iDqBJrvTcP"
   },
   "outputs": [],
   "source": [
    "shutil.copy(checkpoint_callback.best_model_path, f\"contextual_ranker.ckpt\")"
   ]
  },
  {
   "cell_type": "code",
   "execution_count": 18,
   "metadata": {
    "execution": {
     "iopub.execute_input": "2025-05-04T14:17:08.252833Z",
     "iopub.status.busy": "2025-05-04T14:17:08.252247Z",
     "iopub.status.idle": "2025-05-04T14:17:09.269199Z",
     "shell.execute_reply": "2025-05-04T14:17:09.268653Z",
     "shell.execute_reply.started": "2025-05-04T14:17:08.252809Z"
    },
    "id": "_IeB7jzb8Njn"
   },
   "outputs": [],
   "source": [
    "best = ContextualRanker.load_from_checkpoint(f\"/kaggle/input/recsys-hw/results (5)/contextual_ranker.ckpt\", embedding_dim=400)"
   ]
  },
  {
   "cell_type": "code",
   "execution_count": 19,
   "metadata": {
    "execution": {
     "iopub.execute_input": "2025-05-04T14:17:10.452426Z",
     "iopub.status.busy": "2025-05-04T14:17:10.451829Z",
     "iopub.status.idle": "2025-05-04T14:17:13.287824Z",
     "shell.execute_reply": "2025-05-04T14:17:13.287237Z",
     "shell.execute_reply.started": "2025-05-04T14:17:10.452403Z"
    },
    "id": "HTUgc8_hQ7N0"
   },
   "outputs": [
    {
     "name": "stderr",
     "output_type": "stream",
     "text": [
      "/usr/local/lib/python3.11/dist-packages/pytorch_lightning/trainer/connectors/data_connector.py:425: The 'test_dataloader' does not have many workers which may be a bottleneck. Consider increasing the value of the `num_workers` argument` to `num_workers=3` in the `DataLoader` to improve performance.\n"
     ]
    },
    {
     "data": {
      "application/vnd.jupyter.widget-view+json": {
       "model_id": "",
       "version_major": 2,
       "version_minor": 0
      },
      "text/plain": [
       "Testing: |          | 0/? [00:00<?, ?it/s]"
      ]
     },
     "metadata": {},
     "output_type": "display_data"
    },
    {
     "data": {
      "text/html": [
       "<pre style=\"white-space:pre;overflow-x:auto;line-height:normal;font-family:Menlo,'DejaVu Sans Mono',consolas,'Courier New',monospace\">┏━━━━━━━━━━━━━━━━━━━━━━━━━━━┳━━━━━━━━━━━━━━━━━━━━━━━━━━━┓\n",
       "┃<span style=\"font-weight: bold\">        Test metric        </span>┃<span style=\"font-weight: bold\">       DataLoader 0        </span>┃\n",
       "┡━━━━━━━━━━━━━━━━━━━━━━━━━━━╇━━━━━━━━━━━━━━━━━━━━━━━━━━━┩\n",
       "│<span style=\"color: #008080; text-decoration-color: #008080\">         avg_loss          </span>│<span style=\"color: #800080; text-decoration-color: #800080\">   0.008809637278318405    </span>│\n",
       "│<span style=\"color: #008080; text-decoration-color: #008080\">         rdm_loss          </span>│<span style=\"color: #800080; text-decoration-color: #800080\">    0.28410616517066956    </span>│\n",
       "│<span style=\"color: #008080; text-decoration-color: #008080\">         test_loss         </span>│<span style=\"color: #800080; text-decoration-color: #800080\">    0.03869606554508209    </span>│\n",
       "└───────────────────────────┴───────────────────────────┘\n",
       "</pre>\n"
      ],
      "text/plain": [
       "┏━━━━━━━━━━━━━━━━━━━━━━━━━━━┳━━━━━━━━━━━━━━━━━━━━━━━━━━━┓\n",
       "┃\u001b[1m \u001b[0m\u001b[1m       Test metric       \u001b[0m\u001b[1m \u001b[0m┃\u001b[1m \u001b[0m\u001b[1m      DataLoader 0       \u001b[0m\u001b[1m \u001b[0m┃\n",
       "┡━━━━━━━━━━━━━━━━━━━━━━━━━━━╇━━━━━━━━━━━━━━━━━━━━━━━━━━━┩\n",
       "│\u001b[36m \u001b[0m\u001b[36m        avg_loss         \u001b[0m\u001b[36m \u001b[0m│\u001b[35m \u001b[0m\u001b[35m  0.008809637278318405   \u001b[0m\u001b[35m \u001b[0m│\n",
       "│\u001b[36m \u001b[0m\u001b[36m        rdm_loss         \u001b[0m\u001b[36m \u001b[0m│\u001b[35m \u001b[0m\u001b[35m   0.28410616517066956   \u001b[0m\u001b[35m \u001b[0m│\n",
       "│\u001b[36m \u001b[0m\u001b[36m        test_loss        \u001b[0m\u001b[36m \u001b[0m│\u001b[35m \u001b[0m\u001b[35m   0.03869606554508209   \u001b[0m\u001b[35m \u001b[0m│\n",
       "└───────────────────────────┴───────────────────────────┘\n"
      ]
     },
     "metadata": {},
     "output_type": "display_data"
    },
    {
     "data": {
      "text/plain": [
       "[{'test_loss': 0.03869606554508209,\n",
       "  'avg_loss': 0.008809637278318405,\n",
       "  'rdm_loss': 0.28410616517066956}]"
      ]
     },
     "execution_count": 19,
     "metadata": {},
     "output_type": "execute_result"
    }
   ],
   "source": [
    "trainer.test(best, data_module)"
   ]
  },
  {
   "cell_type": "markdown",
   "metadata": {
    "id": "tRZLUR9_8Njo"
   },
   "source": [
    "## Compute top recommendations"
   ]
  },
  {
   "cell_type": "code",
   "execution_count": 20,
   "metadata": {
    "execution": {
     "iopub.execute_input": "2025-05-04T14:17:13.289043Z",
     "iopub.status.busy": "2025-05-04T14:17:13.288798Z",
     "iopub.status.idle": "2025-05-04T14:17:13.577274Z",
     "shell.execute_reply": "2025-05-04T14:17:13.576506Z",
     "shell.execute_reply.started": "2025-05-04T14:17:13.289018Z"
    },
    "id": "5UrLSjgt8Njo"
   },
   "outputs": [],
   "source": [
    "track_meta = pd.read_json(f\"/kaggle/input/recsys-hw/tracks.json\", lines=True)"
   ]
  },
  {
   "cell_type": "code",
   "execution_count": 21,
   "metadata": {
    "execution": {
     "iopub.execute_input": "2025-05-04T14:17:16.619979Z",
     "iopub.status.busy": "2025-05-04T14:17:16.619406Z",
     "iopub.status.idle": "2025-05-04T14:17:16.623939Z",
     "shell.execute_reply": "2025-05-04T14:17:16.623086Z",
     "shell.execute_reply.started": "2025-05-04T14:17:16.619953Z"
    },
    "id": "PqwVsVyO8Njp"
   },
   "outputs": [],
   "source": [
    "context_embeddings = dict(best.named_parameters())[\"context.weight\"].data.cpu().numpy()\n",
    "track_embeddings = dict(best.named_parameters())[\"track.weight\"].data.cpu().numpy()"
   ]
  },
  {
   "cell_type": "code",
   "execution_count": 22,
   "metadata": {
    "execution": {
     "iopub.execute_input": "2025-05-04T14:17:18.452623Z",
     "iopub.status.busy": "2025-05-04T14:17:18.451908Z",
     "iopub.status.idle": "2025-05-04T14:17:18.462392Z",
     "shell.execute_reply": "2025-05-04T14:17:18.461716Z",
     "shell.execute_reply.started": "2025-05-04T14:17:18.452597Z"
    },
    "id": "-z1VTPGh8Njp"
   },
   "outputs": [
    {
     "data": {
      "text/html": [
       "<div>\n",
       "<style scoped>\n",
       "    .dataframe tbody tr th:only-of-type {\n",
       "        vertical-align: middle;\n",
       "    }\n",
       "\n",
       "    .dataframe tbody tr th {\n",
       "        vertical-align: top;\n",
       "    }\n",
       "\n",
       "    .dataframe thead th {\n",
       "        text-align: right;\n",
       "    }\n",
       "</style>\n",
       "<table border=\"1\" class=\"dataframe\">\n",
       "  <thead>\n",
       "    <tr style=\"text-align: right;\">\n",
       "      <th></th>\n",
       "      <th>artist</th>\n",
       "      <th>album</th>\n",
       "      <th>title</th>\n",
       "      <th>genre</th>\n",
       "      <th>pop</th>\n",
       "      <th>duration</th>\n",
       "      <th>track</th>\n",
       "    </tr>\n",
       "  </thead>\n",
       "  <tbody>\n",
       "    <tr>\n",
       "      <th>0</th>\n",
       "      <td>Михаил Бублик</td>\n",
       "      <td>ART-Обстрел I-часть</td>\n",
       "      <td>Сорок тысяч верст</td>\n",
       "      <td>[1, 47]</td>\n",
       "      <td>-0.500252</td>\n",
       "      <td>282</td>\n",
       "      <td>41164</td>\n",
       "    </tr>\n",
       "    <tr>\n",
       "      <th>1</th>\n",
       "      <td>Xamdam Sobirov</td>\n",
       "      <td>Baxtli Bo'lolmadik</td>\n",
       "      <td>Baxtli Bo'lolmadik</td>\n",
       "      <td>[1]</td>\n",
       "      <td>-0.942953</td>\n",
       "      <td>205</td>\n",
       "      <td>27544</td>\n",
       "    </tr>\n",
       "    <tr>\n",
       "      <th>2</th>\n",
       "      <td>Сергей Какенов</td>\n",
       "      <td>Ишимская шпана</td>\n",
       "      <td>Крутые лагеря</td>\n",
       "      <td>[147]</td>\n",
       "      <td>-0.801382</td>\n",
       "      <td>252</td>\n",
       "      <td>34702</td>\n",
       "    </tr>\n",
       "    <tr>\n",
       "      <th>3</th>\n",
       "      <td>Loc-Dog</td>\n",
       "      <td>Electrodog 2</td>\n",
       "      <td>Еду убивать</td>\n",
       "      <td>[17]</td>\n",
       "      <td>-0.577525</td>\n",
       "      <td>276</td>\n",
       "      <td>45907</td>\n",
       "    </tr>\n",
       "    <tr>\n",
       "      <th>4</th>\n",
       "      <td>Gafur</td>\n",
       "      <td>Февраль</td>\n",
       "      <td>Февраль</td>\n",
       "      <td>[1]</td>\n",
       "      <td>-0.738636</td>\n",
       "      <td>160</td>\n",
       "      <td>14978</td>\n",
       "    </tr>\n",
       "  </tbody>\n",
       "</table>\n",
       "</div>"
      ],
      "text/plain": [
       "           artist                album               title    genre       pop  \\\n",
       "0   Михаил Бублик  ART-Обстрел I-часть   Сорок тысяч верст  [1, 47] -0.500252   \n",
       "1  Xamdam Sobirov   Baxtli Bo'lolmadik  Baxtli Bo'lolmadik      [1] -0.942953   \n",
       "2  Сергей Какенов       Ишимская шпана       Крутые лагеря    [147] -0.801382   \n",
       "3         Loc-Dog         Electrodog 2         Еду убивать     [17] -0.577525   \n",
       "4           Gafur              Февраль             Февраль      [1] -0.738636   \n",
       "\n",
       "   duration  track  \n",
       "0       282  41164  \n",
       "1       205  27544  \n",
       "2       252  34702  \n",
       "3       276  45907  \n",
       "4       160  14978  "
      ]
     },
     "execution_count": 22,
     "metadata": {},
     "output_type": "execute_result"
    }
   ],
   "source": [
    "track_meta.head()"
   ]
  },
  {
   "cell_type": "code",
   "execution_count": 23,
   "metadata": {
    "execution": {
     "iopub.execute_input": "2025-05-04T14:17:21.368605Z",
     "iopub.status.busy": "2025-05-04T14:17:21.368296Z",
     "iopub.status.idle": "2025-05-04T14:17:21.372678Z",
     "shell.execute_reply": "2025-05-04T14:17:21.371920Z",
     "shell.execute_reply.started": "2025-05-04T14:17:21.368584Z"
    }
   },
   "outputs": [],
   "source": [
    "index = faiss.index_factory(track_embeddings.shape[1], \"Flat\", faiss.METRIC_INNER_PRODUCT)"
   ]
  },
  {
   "cell_type": "code",
   "execution_count": 24,
   "metadata": {
    "execution": {
     "iopub.execute_input": "2025-05-04T14:17:24.735819Z",
     "iopub.status.busy": "2025-05-04T14:17:24.735211Z",
     "iopub.status.idle": "2025-05-04T14:17:24.842325Z",
     "shell.execute_reply": "2025-05-04T14:17:24.841764Z",
     "shell.execute_reply.started": "2025-05-04T14:17:24.735796Z"
    },
    "id": "sbL0uW6lvklr"
   },
   "outputs": [],
   "source": [
    "index.add(track_embeddings.astype('float32'))"
   ]
  },
  {
   "cell_type": "code",
   "execution_count": null,
   "metadata": {
    "id": "m7_A20no8Njp"
   },
   "outputs": [],
   "source": [
    "k = 100\n",
    "with open(f\"recommendations_contextual.json\", \"w\") as rf:\n",
    "    for _, track in tqdm.tqdm(track_meta.iterrows(), total=len(track_meta)):\n",
    "        embedding = context_embeddings[track[\"track\"]]\n",
    "        dists, neighbours = index.search(embedding.astype('float32')[np.newaxis, :], k)\n",
    "        #neighbours = np.argpartition(-np.dot(track_embeddings, embedding), k)[:k]\n",
    "        recommendation = dict(track)\n",
    "        recommendation[\"recommendations\"] = neighbours.flatten().tolist()\n",
    "\n",
    "        rf.write(json.dumps(recommendation, ensure_ascii=False) + \"\\n\")"
   ]
  }
 ],
 "metadata": {
  "colab": {
   "provenance": []
  },
  "kaggle": {
   "accelerator": "gpu",
   "dataSources": [
    {
     "datasetId": 7321533,
     "sourceId": 11673356,
     "sourceType": "datasetVersion"
    }
   ],
   "dockerImageVersionId": 31011,
   "isGpuEnabled": true,
   "isInternetEnabled": true,
   "language": "python",
   "sourceType": "notebook"
  },
  "kernelspec": {
   "display_name": "Python 3 (ipykernel)",
   "language": "python",
   "name": "python3"
  },
  "language_info": {
   "codemirror_mode": {
    "name": "ipython",
    "version": 3
   },
   "file_extension": ".py",
   "mimetype": "text/x-python",
   "name": "python",
   "nbconvert_exporter": "python",
   "pygments_lexer": "ipython3",
   "version": "3.12.2"
  }
 },
 "nbformat": 4,
 "nbformat_minor": 4
}
